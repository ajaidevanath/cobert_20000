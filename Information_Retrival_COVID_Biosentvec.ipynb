{
 "cells": [
  {
   "cell_type": "markdown",
   "metadata": {},
   "source": [
    "# Clustering and sentence embedding using BioSentVEc"
   ]
  },
  {
   "cell_type": "markdown",
   "metadata": {},
   "source": [
    "Step1:Download and install sent2vec model with c++, cython\n",
    "\n",
    "Step2:Downloaded BioSentVec model and installed all the related python libraries"
   ]
  },
  {
   "cell_type": "markdown",
   "metadata": {},
   "source": [
    "#### (1) The Sent2vec homepage (https://github.com/epfml/sent2vec) has a few pre-trained sentence embeddings from general English copora. "
   ]
  },
  {
   "cell_type": "code",
   "execution_count": 1,
   "metadata": {},
   "outputs": [],
   "source": [
    "import matplotlib.pyplot as plt\n",
    "from sklearn.cluster import KMeans,DBSCAN,AgglomerativeClustering\n",
    "import warnings\n",
    "warnings.filterwarnings('ignore')\n",
    "import string"
   ]
  },
  {
   "cell_type": "code",
   "execution_count": 2,
   "metadata": {},
   "outputs": [
    {
     "ename": "ImportError",
     "evalue": "numpy.core.multiarray failed to import",
     "output_type": "error",
     "traceback": [
      "\u001b[0;31m---------------------------------------------------------------------------\u001b[0m",
      "\u001b[0;31mRuntimeError\u001b[0m                              Traceback (most recent call last)",
      "File \u001b[0;32m__init__.pxd:942\u001b[0m, in \u001b[0;36mnumpy.import_array\u001b[0;34m()\u001b[0m\n",
      "\u001b[0;31mRuntimeError\u001b[0m: module compiled against API version 0x10 but this version of numpy is 0xf",
      "\nDuring handling of the above exception, another exception occurred:\n",
      "\u001b[0;31mImportError\u001b[0m                               Traceback (most recent call last)",
      "Input \u001b[0;32mIn [2]\u001b[0m, in \u001b[0;36m<cell line: 1>\u001b[0;34m()\u001b[0m\n\u001b[0;32m----> 1\u001b[0m \u001b[38;5;28;01mimport\u001b[39;00m \u001b[38;5;21;01msent2vec\u001b[39;00m\n\u001b[1;32m      2\u001b[0m \u001b[38;5;28;01mfrom\u001b[39;00m \u001b[38;5;21;01mnltk\u001b[39;00m \u001b[38;5;28;01mimport\u001b[39;00m word_tokenize\n\u001b[1;32m      3\u001b[0m \u001b[38;5;28;01mfrom\u001b[39;00m \u001b[38;5;21;01mnltk\u001b[39;00m\u001b[38;5;21;01m.\u001b[39;00m\u001b[38;5;21;01mcorpus\u001b[39;00m \u001b[38;5;28;01mimport\u001b[39;00m stopwords\n",
      "File \u001b[0;32msrc/sent2vec.pyx:17\u001b[0m, in \u001b[0;36minit sent2vec\u001b[0;34m()\u001b[0m\n",
      "File \u001b[0;32m__init__.pxd:944\u001b[0m, in \u001b[0;36mnumpy.import_array\u001b[0;34m()\u001b[0m\n",
      "\u001b[0;31mImportError\u001b[0m: numpy.core.multiarray failed to import"
     ]
    }
   ],
   "source": [
    "import sent2vec\n",
    "from nltk import word_tokenize\n",
    "from nltk.corpus import stopwords\n",
    "from string import punctuation\n",
    "from scipy.spatial import distance"
   ]
  },
  {
   "cell_type": "markdown",
   "metadata": {},
   "source": [
    "## Loading BioSentVec model"
   ]
  },
  {
   "cell_type": "code",
   "execution_count": 4,
   "metadata": {},
   "outputs": [
    {
     "name": "stdout",
     "output_type": "stream",
     "text": [
      "model successfully loaded\n"
     ]
    }
   ],
   "source": [
    "model_path = '/Users/ajai/Desktop/BioSentVec/BioSentVec_PubMed_MIMICIII-bigram_d700.bin'\n",
    "model = sent2vec.Sent2vecModel()\n",
    "try:\n",
    "    model.load_model(model_path)\n",
    "except Exception as e:\n",
    "    print(e)\n",
    "print('model successfully loaded')"
   ]
  },
  {
   "cell_type": "markdown",
   "metadata": {},
   "source": [
    "## Preprocess sentences"
   ]
  },
  {
   "cell_type": "markdown",
   "metadata": {},
   "source": [
    "There is no one-size-fits-all solution to preprocess sentences. We demonstrate a representative code example as below. This is also consistent with the preprocessing approach when BioSentVec models were trained."
   ]
  },
  {
   "cell_type": "code",
   "execution_count": 5,
   "metadata": {},
   "outputs": [],
   "source": [
    "stop_words = set(stopwords.words('english'))\n",
    "def preprocess_sentence(text):\n",
    "    tokens = [token for token in word_tokenize(text) if token not in string.punctuation and token not in stop_words]\n",
    "    return ' '.join(tokens)"
   ]
  },
  {
   "cell_type": "markdown",
   "metadata": {},
   "source": [
    "An example of using the preprocess_sentence function: "
   ]
  },
  {
   "cell_type": "code",
   "execution_count": 217,
   "metadata": {},
   "outputs": [
    {
     "name": "stdout",
     "output_type": "stream",
     "text": [
      "coronoavirus isbetter wash hands\n"
     ]
    }
   ],
   "source": [
    "sentence = preprocess_sentence('while having coronoavirus it isbetter to wash hands')\n",
    "print(sentence)"
   ]
  },
  {
   "cell_type": "markdown",
   "metadata": {},
   "source": [
    "## Retrieving a sentence vector"
   ]
  },
  {
   "cell_type": "markdown",
   "metadata": {},
   "source": [
    "Once a sentence is preprocessed, we can pass it to the BioSentVec model to retrieve a vector representation of the sentence."
   ]
  },
  {
   "cell_type": "code",
   "execution_count": 230,
   "metadata": {
    "scrolled": true
   },
   "outputs": [
    {
     "name": "stdout",
     "output_type": "stream",
     "text": [
      "[[ 4.97268885e-01 -1.00692117e-03  1.68705672e-01  5.97206354e-01\n",
      "   1.15028009e-01 -5.02117395e-01 -7.19179094e-01  3.14612031e-01\n",
      "   1.44628316e-01  2.50275970e-01 -5.85523397e-02  6.20775223e-01\n",
      "  -8.16104338e-02  2.70682484e-01 -6.46098405e-02  3.25555950e-01\n",
      "   4.74967808e-01  5.72420835e-01 -4.56831217e-01 -8.55217576e-01\n",
      "  -8.06858540e-02  1.34120882e-02  5.65300345e-01  2.98662841e-01\n",
      "   3.14899057e-01 -8.12476158e-01  7.61235654e-01 -1.17874110e+00\n",
      "  -2.45411247e-01 -3.88459295e-01 -5.13220057e-02  3.74684304e-01\n",
      "  -2.62232184e-01 -1.45889089e-01 -5.35564244e-01 -4.99149323e-01\n",
      "   1.78582713e-01 -3.93996418e-01 -1.28427491e-01 -9.13547158e-01\n",
      "  -4.47847128e-01 -5.37523985e-01 -4.85672891e-01  8.97020280e-01\n",
      "  -1.42681196e-01 -5.72904229e-01  8.51094007e-01 -5.24533615e-02\n",
      "   1.52560975e-02  3.24985474e-01 -6.65421963e-01  4.48682308e-01\n",
      "   5.98129988e-01 -2.80605584e-01 -1.45621419e-01  4.73908603e-01\n",
      "  -2.62347519e-01  2.39337012e-01  1.16250217e-01 -5.92007399e-01\n",
      "  -2.99766302e-01  1.08123630e-01  1.17892876e-01  7.41485953e-01\n",
      "   3.22181702e-01 -3.90096128e-01 -3.68335217e-01  9.76591945e-01\n",
      "  -1.45304680e-01 -3.21820617e-01  2.23944545e-01 -4.32726800e-01\n",
      "   7.38089263e-01 -2.44728297e-01  2.09926486e-01  2.36491948e-01\n",
      "   3.24698091e-01 -1.62572443e-01 -3.82619828e-01 -4.05896395e-01\n",
      "  -2.26868503e-02 -4.06955570e-01 -5.32872438e-01 -4.55163330e-01\n",
      "  -5.30604303e-01  4.21026230e-01  4.14927423e-01  4.76408601e-01\n",
      "   1.72630474e-01  7.81638265e-01  3.25538933e-01  2.27560163e-01\n",
      "  -8.68959785e-01 -2.01871321e-01 -2.31816232e-01  4.43560541e-01\n",
      "   1.19348373e-02 -4.50904667e-01 -1.50492609e-01  9.02372897e-02\n",
      "   4.99971151e-01  7.40903854e-01 -2.69578636e-01 -5.27377605e-01\n",
      "  -1.51620954e-02  9.80862081e-02 -3.01287174e-01 -8.87555063e-01\n",
      "   5.82957268e-01  1.85864910e-01  1.15806803e-01  6.95599973e-01\n",
      "   2.76748419e-01  1.76661760e-01 -3.23640198e-01  1.90347597e-01\n",
      "   3.08208307e-03  2.96023994e-04  1.34750605e-01  4.87699002e-01\n",
      "   3.62199873e-01 -2.16334507e-01 -1.90812163e-02 -2.42866680e-01\n",
      "  -3.65274161e-01 -3.69414568e-01 -2.05260754e-01  2.40142673e-01\n",
      "  -3.27796966e-01 -2.75477827e-01 -9.50521827e-02 -2.31860369e-01\n",
      "   5.97768351e-02 -2.53106415e-01  1.18042879e-01 -3.75819057e-01\n",
      "   2.24837773e-02  1.81106061e-01  2.83073813e-01  9.01555240e-01\n",
      "  -2.56222606e-01  3.37245874e-02  5.54630995e-01  9.46603864e-02\n",
      "   4.49902385e-01  2.67852098e-02 -5.37088394e-01  3.30711663e-01\n",
      "   2.39023194e-01 -4.97098982e-01 -9.61960018e-01  4.09633964e-01\n",
      "   5.73504627e-01  1.67085052e-01  3.76813233e-01 -1.79297552e-01\n",
      "   1.24698266e-01 -9.47116017e-02  8.53537321e-02 -3.79336327e-02\n",
      "   4.56215948e-01  1.10536836e-01 -4.68899906e-02 -1.43079698e-01\n",
      "   7.95483589e-04 -1.91213414e-01 -4.96003121e-01 -1.13621533e-01\n",
      "  -4.98666942e-01 -3.70877385e-01 -3.17705959e-01 -2.01789603e-01\n",
      "   4.84151483e-01 -1.99215084e-01 -5.83929598e-01 -4.43795294e-01\n",
      "   1.23406075e-01  2.20958114e-01 -1.78714156e-01  3.62292856e-01\n",
      "   3.00618976e-01 -1.48987651e-01 -5.61453342e-01 -4.17806029e-01\n",
      "  -3.01851451e-01 -8.89354825e-01  9.42752004e-01  3.87145206e-02\n",
      "   8.54959115e-02 -2.23951846e-01 -1.18499026e-01 -7.35952556e-01\n",
      "   7.52918422e-01 -1.76483676e-01 -4.43996310e-01  5.85461259e-01\n",
      "   4.61448967e-01  6.53948545e-01 -5.41792512e-01 -1.75657272e-02\n",
      "   7.65617847e-01  1.03074715e-01 -7.91277409e-01  3.73785019e-01\n",
      "   1.27081454e-01  3.72005463e-01  2.52571374e-01  2.15038061e-01\n",
      "   1.14377213e+00  1.07950544e+00  5.08871675e-01  3.60475361e-01\n",
      "  -2.69609511e-01 -1.28645629e-01  5.24176538e-01  4.28783894e-03\n",
      "   4.74443495e-01 -3.68540466e-01  3.19270849e-01 -1.37400627e-01\n",
      "  -1.38312668e-01  2.00498616e-03 -4.31706011e-01 -6.44051075e-01\n",
      "  -1.05669342e-01  7.75920749e-02  5.85188508e-01 -3.31126153e-02\n",
      "   3.94865841e-01 -8.60376477e-01  4.99395788e-01  6.74593091e-01\n",
      "   6.58035636e-01 -4.10448015e-02 -3.03882211e-01 -5.16613185e-01\n",
      "   5.27428031e-01  1.29181311e-01  7.55624697e-02  6.66200936e-01\n",
      "  -1.63411930e-01  7.72708535e-01 -2.08596751e-01 -9.55023393e-02\n",
      "   1.93901777e-01  1.48326844e-01 -1.28146559e-01  3.79391432e-01\n",
      "   3.17887902e-01  4.99045432e-01 -1.25587553e-01  1.97585389e-01\n",
      "  -8.32143009e-01  6.07135355e-01 -1.10271797e-02 -2.66074955e-01\n",
      "   1.29360521e+00  3.84752870e-01  4.92681324e-01 -4.29574460e-01\n",
      "   3.05551559e-01  4.20827001e-01 -2.44786605e-01 -4.88953203e-01\n",
      "   4.73204434e-01 -1.11924991e-01 -5.64193368e-01  9.88563746e-02\n",
      "   6.66051447e-01 -1.04658298e-01 -8.07826817e-02 -1.03243196e-03\n",
      "  -4.00780529e-01 -3.98659967e-02  1.71304867e-01 -5.85769534e-01\n",
      "   3.73920441e-01 -2.53442585e-01  9.25475508e-02  8.59750986e-01\n",
      "   5.62461257e-01 -3.76325428e-01 -3.82671893e-01  2.71822602e-01\n",
      "   1.82340086e-01  5.69714963e-01  8.54392529e-01  4.43124287e-02\n",
      "   2.64969796e-01 -1.03878438e+00  4.44154561e-01  3.63487333e-01\n",
      "  -2.55650043e-01 -1.76524874e-02  9.80184507e-03 -3.81726980e-01\n",
      "  -1.11616015e-01  2.48126294e-02  6.61938727e-01  3.42354000e-01\n",
      "   7.79229522e-01 -3.33199680e-01 -1.30525053e-01 -3.82011116e-01\n",
      "   1.80992723e-01  1.53193593e-01 -1.57981738e-01 -5.99669814e-01\n",
      "  -2.93075979e-01 -3.53689373e-01 -1.74906075e-01  3.58580709e-01\n",
      "   1.36809528e-01  4.67773434e-03 -1.44254357e-01  2.19352216e-01\n",
      "  -1.24870136e-01  5.90572953e-01  7.09895074e-01 -3.66614312e-01\n",
      "  -1.78743184e-01 -1.66747659e-01  2.12969840e-01  2.40607947e-01\n",
      "  -1.99322253e-01 -8.01725149e-01  1.00411847e-01 -6.37188911e-01\n",
      "  -2.23995924e-01  6.23182416e-01 -2.97595918e-01  1.93221182e-01\n",
      "  -9.06697139e-02 -1.80170774e-01  7.85774171e-01 -2.23144412e-01\n",
      "  -4.84403014e-01 -2.75693476e-01 -7.24004984e-01 -3.01033795e-01\n",
      "   8.93622816e-01 -3.36308241e-01 -3.12083811e-01 -2.03174919e-01\n",
      "  -8.23711395e-01  4.20049161e-01  1.80295825e-01 -5.43129206e-01\n",
      "  -8.52962911e-01 -2.57254064e-01 -5.75527065e-02  1.70731127e-01\n",
      "  -6.24682754e-02 -1.13685763e+00 -7.91529045e-02 -1.33576274e+00\n",
      "   2.51089513e-01 -7.57038742e-02  2.11588115e-01 -3.57232749e-01\n",
      "  -2.11782753e-02 -1.92105681e-01 -5.92019796e-01 -1.15428165e-01\n",
      "  -5.83803952e-01  1.33115292e-01 -2.65453905e-01  1.79199025e-01\n",
      "   1.84826851e-01  9.57056165e-01  2.61986375e-01  3.48377585e-01\n",
      "  -5.16707361e-01 -2.64372170e-01  4.53014851e-01 -2.20609829e-01\n",
      "   1.96500778e-01  1.50781691e-01  1.71451375e-01 -3.77705991e-01\n",
      "   1.35749191e-01 -4.49498266e-01  8.95368516e-01 -1.16736233e+00\n",
      "   6.26500547e-01 -9.77129489e-02 -3.44129205e-01 -1.40370548e+00\n",
      "  -4.32223767e-01 -1.78347751e-01  1.70857832e-01 -3.36184204e-01\n",
      "   1.18791997e-01  1.83225870e-01 -3.73084486e-01 -3.23994815e-01\n",
      "  -1.34981811e-01 -2.59089231e-01  3.08226019e-01 -3.33139986e-01\n",
      "   7.53444612e-01  1.18142895e-01  1.02459759e-01  5.27576089e-01\n",
      "   5.53079486e-01  6.22252941e-01 -2.87687361e-01  5.98225594e-01\n",
      "   6.40045553e-02  5.81997871e-01  8.68975401e-01 -1.19727865e-01\n",
      "   6.32351160e-01  2.05246896e-01 -1.80585429e-01  5.37562132e-01\n",
      "   2.30329037e-02 -4.41549867e-01 -8.95888090e-01 -5.70697069e-01\n",
      "   5.00137806e-01  1.24252155e-01  3.40666354e-01  6.16959147e-02\n",
      "  -6.75780773e-01 -5.78494444e-02  9.88721475e-02 -6.42408252e-01\n",
      "  -3.27101275e-02 -2.93016076e-01  1.91269621e-01  1.36273682e-01\n",
      "   6.26552105e-01 -1.20890968e-01 -6.33181930e-01  1.62179202e-01\n",
      "  -2.27065086e-01  3.52906100e-02 -5.24548292e-01  6.89926326e-01\n",
      "   1.93532169e-01  6.06292486e-01  5.37628233e-01 -3.45477045e-01\n",
      "  -1.86535567e-02  2.58904602e-02  5.41710481e-02 -3.79401535e-01\n",
      "  -1.44443214e-01 -6.29388213e-01  1.95556045e-01  2.29611427e-01\n",
      "   3.03696573e-01  3.62100691e-01  8.62635970e-02 -1.60527408e-01\n",
      "   2.87478685e-01 -4.42887365e-04  7.58570611e-01 -1.34002477e-01\n",
      "   8.69077444e-02 -7.20664382e-01 -2.25811824e-01  1.88620076e-01\n",
      "   7.35287070e-01  1.44528776e-01 -2.71759480e-01  5.02573907e-01\n",
      "  -1.39594078e-01  5.63491702e-01  3.23435813e-01  3.52135003e-01\n",
      "  -5.44574499e-01 -3.00109625e-01 -4.34931219e-01 -5.49288392e-01\n",
      "   2.23593116e-02 -4.31024402e-01 -4.05927747e-01  1.08924365e+00\n",
      "   2.08876535e-01 -2.14769483e-01 -2.90490419e-01 -3.77932250e-01\n",
      "  -1.18408307e-01  9.34825540e-02  1.04378748e+00  1.38000488e-01\n",
      "   2.95342028e-01  1.82405993e-01  3.84234905e-01  6.04380488e-01\n",
      "   3.61684263e-01  1.65512085e-01 -3.91815394e-01  6.37497902e-01\n",
      "   3.34957540e-01 -1.90655395e-01 -4.07582939e-01 -3.07317466e-01\n",
      "  -9.83754694e-02 -1.20269567e-01  9.14905891e-02  1.61437720e-01\n",
      "  -2.40489408e-01  3.91140789e-01 -2.19012469e-01 -4.17445660e-01\n",
      "  -8.89167011e-01  5.27366519e-01 -6.48337007e-01  6.29412085e-02\n",
      "  -8.84991050e-01  1.22940436e-01 -2.53989428e-01  3.05390894e-01\n",
      "  -1.65904924e-01 -3.39666575e-01  2.00152606e-01 -9.51515198e-01\n",
      "   1.96637511e-01 -4.02275652e-01  1.42460048e-01 -5.76601267e-01\n",
      "  -1.03124273e+00 -1.77540720e-01 -3.17783058e-02  4.25049514e-01\n",
      "  -8.78200755e-02  3.42401117e-01  3.36037502e-02  4.02364969e-01\n",
      "   5.09693205e-01 -6.20508552e-01  2.79226601e-01  4.88258898e-01\n",
      "   2.15527415e-03 -5.66846848e-01 -5.00706077e-01  1.34755716e-01\n",
      "  -4.13477600e-01 -9.53060627e-01  8.28123748e-01  6.00969017e-01\n",
      "  -1.98566407e-01 -4.27845955e-01 -3.40919457e-02 -1.91356897e-01\n",
      "  -2.77676940e-01 -2.06941232e-01 -3.70125592e-01 -2.43345112e-01\n",
      "   2.46795401e-01 -4.55454051e-01  4.28332156e-03 -8.70729387e-01\n",
      "   9.07054186e-01 -1.91668838e-01 -1.25210166e-01 -1.85968995e-01\n",
      "  -1.12104677e-01  8.19983959e-01 -4.58818614e-01 -1.16898321e-01\n",
      "   9.69377756e-02  2.45083019e-01 -5.28569639e-01  4.81802642e-01\n",
      "   2.96705484e-01 -1.46222040e-01  5.13463259e-01  2.61633217e-01\n",
      "  -6.27854407e-01 -4.87283580e-02 -5.68157315e-01 -4.53158557e-01\n",
      "   5.38667798e-01  9.05386806e-02  8.38982344e-01 -6.71175659e-01\n",
      "  -4.24558282e-01 -4.90805477e-01 -2.98494339e-01  4.67023373e-01\n",
      "  -1.99102070e-02 -8.67948532e-02  3.36337805e-01 -4.26735133e-01\n",
      "   1.03627585e-01 -3.74864697e-01  3.34780931e-01 -3.77767146e-01\n",
      "  -7.18672872e-02 -4.45769802e-02 -4.66857493e-01  5.08446038e-01\n",
      "  -2.41741359e-01  6.06026053e-01  9.02822256e-01  3.12841654e-01\n",
      "   3.72523278e-01  1.73008412e-01  6.86502814e-01  1.99775577e-01\n",
      "   5.09030104e-01  4.55440968e-01  5.05443335e-01 -2.65963674e-01\n",
      "  -2.94317961e-01  2.44565248e-01  2.65024304e-01  2.97032237e-01\n",
      "   2.09851608e-01 -7.61310577e-01  4.02098835e-01 -2.46695444e-01\n",
      "   5.31016827e-01 -6.37322366e-02 -2.26738721e-01 -4.47572529e-01\n",
      "  -5.50049916e-03  3.43706787e-01  8.16392750e-02  2.04085812e-01\n",
      "  -1.40590653e-01  1.67827308e-01  1.29630491e-01 -1.07853591e-01\n",
      "  -3.39857817e-01 -2.20805109e-01  7.16544315e-02 -5.75624347e-01\n",
      "   4.08707470e-01 -1.59550220e-01  6.10316634e-01 -4.55152690e-01\n",
      "  -5.32969236e-01 -5.71555734e-01 -5.89974880e-01  4.00502771e-01\n",
      "   4.50393885e-01  5.81096053e-01 -2.19266653e-01 -3.99456471e-01\n",
      "  -4.67519134e-01  3.41641828e-02  2.51973085e-02 -5.55157423e-01\n",
      "   6.98149085e-01  9.17200670e-02  3.79847944e-01 -8.32151175e-01\n",
      "  -2.93834865e-01 -5.64806223e-01  1.97964072e-01  3.81416321e-01\n",
      "  -1.24219820e-01  3.46961558e-01  2.90186822e-01 -4.21035469e-01\n",
      "   2.53604025e-01  1.61944985e-01 -8.77681732e-01 -5.35841823e-01\n",
      "  -4.06017631e-01 -2.95506030e-01  1.68422163e-01  5.80699205e-01\n",
      "  -6.94739521e-02 -2.68512309e-01 -6.35621846e-02 -2.77098030e-01\n",
      "   7.41856098e-02  2.66151905e-01 -8.12006950e-01  4.84837502e-01\n",
      "  -7.76248723e-02  6.42441213e-01 -1.16970703e-01  3.74686569e-02\n",
      "   6.57255650e-01 -2.48512268e-01 -9.81597453e-02 -4.06000078e-01\n",
      "   3.64357531e-01  3.56129408e-01 -1.04269907e-01  2.53527939e-01\n",
      "  -6.68676138e-01  3.82460165e-03 -2.08175182e-01 -2.94627309e-01\n",
      "  -9.11592543e-02 -2.66403973e-01 -1.47053123e-01  2.08800659e-01\n",
      "   3.54587168e-01  3.95891443e-02 -6.24763742e-02  3.49745840e-01]]\n"
     ]
    }
   ],
   "source": [
    "sentence_vector = model.embed_sentence(sentence)\n",
    "print(sentence_vector)"
   ]
  },
  {
   "cell_type": "markdown",
   "metadata": {},
   "source": [
    "Note that you can also use embed_sentences to retrieve vector representations of multiple sentences."
   ]
  },
  {
   "cell_type": "markdown",
   "metadata": {},
   "source": [
    "The shape of the vector representation depends on the dimension parameter. In this case, we set the dimension to 700: "
   ]
  },
  {
   "cell_type": "code",
   "execution_count": 231,
   "metadata": {},
   "outputs": [
    {
     "name": "stdout",
     "output_type": "stream",
     "text": [
      "(1, 700)\n"
     ]
    }
   ],
   "source": [
    "print(sentence_vector.shape)"
   ]
  },
  {
   "cell_type": "markdown",
   "metadata": {},
   "source": [
    "## Computing sentence similarity"
   ]
  },
  {
   "cell_type": "markdown",
   "metadata": {},
   "source": [
    "In this section, we demonstrate how to compute the sentence similarity between a sentence pair using the BioSentVec model. We firstly use the above code examples to get vector representations of sentences. Then we compute the cosine similarity between the pair."
   ]
  },
  {
   "cell_type": "code",
   "execution_count": 189,
   "metadata": {},
   "outputs": [
    {
     "name": "stdout",
     "output_type": "stream",
     "text": [
      "cosine similarity: 0.9813870787620544\n"
     ]
    }
   ],
   "source": [
    "sentence_vector1 = model.embed_sentence(preprocess_sentence('Breast cancers with HER2 amplification have a higher risk of CNS metastasis and poorer prognosis.'))\n",
    "sentence_vector2 = model.embed_sentence(preprocess_sentence('Breast cancers with HER2 amplification are more aggressive, have a higher risk of CNS metastasis, and poorer prognosis.'))\n",
    "\n",
    "cosine_sim = 1 - distance.cosine(sentence_vector1, sentence_vector2)\n",
    "print('cosine similarity:', cosine_sim)"
   ]
  },
  {
   "cell_type": "markdown",
   "metadata": {},
   "source": [
    "Here is another example for a pair that is relatively less similar."
   ]
  },
  {
   "cell_type": "code",
   "execution_count": 190,
   "metadata": {},
   "outputs": [
    {
     "name": "stdout",
     "output_type": "stream",
     "text": [
      "cosine similarity: 0.16153746843338013\n"
     ]
    }
   ],
   "source": [
    "sentence_vector3 = model.embed_sentence(preprocess_sentence('It is said that each dog has its day is a relative metaphor in the domain'))\n",
    "cosine_sim = 1 - distance.cosine(sentence_vector1, sentence_vector3)\n",
    "print('cosine similarity:', cosine_sim)"
   ]
  },
  {
   "cell_type": "markdown",
   "metadata": {},
   "source": [
    "### as we see that the similarity score is quite less"
   ]
  },
  {
   "cell_type": "markdown",
   "metadata": {},
   "source": [
    "Few useful resources\n",
    "\n",
    "#### (1) The Sent2vec homepage (https://github.com/epfml/sent2vec) has a few pre-trained sentence embeddings from general English copora. "
   ]
  },
  {
   "cell_type": "markdown",
   "metadata": {},
   "source": [
    "## Project Code----->"
   ]
  },
  {
   "cell_type": "code",
   "execution_count": 6,
   "metadata": {},
   "outputs": [],
   "source": [
    "import pandas as pd\n",
    "import numpy as np"
   ]
  },
  {
   "cell_type": "code",
   "execution_count": 7,
   "metadata": {},
   "outputs": [],
   "source": [
    "df = pd.read_json('~/Desktop/Project_NER/CORD-19/CORD-NER-full.json',lines=True)"
   ]
  },
  {
   "cell_type": "code",
   "execution_count": 8,
   "metadata": {},
   "outputs": [
    {
     "data": {
      "text/plain": [
       "'1,3-Diphenyl-4,5-dihydro-1H-pyrazol-5-one'"
      ]
     },
     "execution_count": 8,
     "metadata": {},
     "output_type": "execute_result"
    }
   ],
   "source": [
    "df['body'][3138]"
   ]
  },
  {
   "cell_type": "markdown",
   "metadata": {},
   "source": [
    "print the basic dataset"
   ]
  },
  {
   "cell_type": "code",
   "execution_count": 7,
   "metadata": {
    "scrolled": true
   },
   "outputs": [
    {
     "data": {
      "text/html": [
       "<div>\n",
       "<style scoped>\n",
       "    .dataframe tbody tr th:only-of-type {\n",
       "        vertical-align: middle;\n",
       "    }\n",
       "\n",
       "    .dataframe tbody tr th {\n",
       "        vertical-align: top;\n",
       "    }\n",
       "\n",
       "    .dataframe thead th {\n",
       "        text-align: right;\n",
       "    }\n",
       "</style>\n",
       "<table border=\"1\" class=\"dataframe\">\n",
       "  <thead>\n",
       "    <tr style=\"text-align: right;\">\n",
       "      <th></th>\n",
       "      <th>id</th>\n",
       "      <th>source</th>\n",
       "      <th>doi</th>\n",
       "      <th>pmcid</th>\n",
       "      <th>pubmed_id</th>\n",
       "      <th>publish_time</th>\n",
       "      <th>authors</th>\n",
       "      <th>journal</th>\n",
       "      <th>title</th>\n",
       "      <th>abstract</th>\n",
       "      <th>body</th>\n",
       "      <th>entities</th>\n",
       "    </tr>\n",
       "  </thead>\n",
       "  <tbody>\n",
       "    <tr>\n",
       "      <th>0</th>\n",
       "      <td>0</td>\n",
       "      <td>CZI</td>\n",
       "      <td>10.1007/s00134-020-05985-9</td>\n",
       "      <td></td>\n",
       "      <td>32125455</td>\n",
       "      <td>2020</td>\n",
       "      <td>Zhang, Haibo; Penninger, Josef M.; Li, Yimin; ...</td>\n",
       "      <td>Intensive Care Med</td>\n",
       "      <td>Angiotensin-converting enzyme 2 (ACE2) as a SA...</td>\n",
       "      <td></td>\n",
       "      <td>SARS-CoV-2 has been sequenced [3] . A phylogen...</td>\n",
       "      <td>[{'text': 'Angiotensin-converting enzyme 2', '...</td>\n",
       "    </tr>\n",
       "    <tr>\n",
       "      <th>1</th>\n",
       "      <td>1</td>\n",
       "      <td>CZI</td>\n",
       "      <td>10.1038/s41421-020-0147-1</td>\n",
       "      <td></td>\n",
       "      <td></td>\n",
       "      <td>2020</td>\n",
       "      <td>Cao, Yanan; Li, Lin; Feng, Zhimin; Wan, Shengq...</td>\n",
       "      <td>Cell Discovery</td>\n",
       "      <td>Comparative genetic analysis of the novel coro...</td>\n",
       "      <td></td>\n",
       "      <td>Comparative genetic analysis of the novel coro...</td>\n",
       "      <td>[{'text': 'genetic analysis', 'start': 12, 'en...</td>\n",
       "    </tr>\n",
       "  </tbody>\n",
       "</table>\n",
       "</div>"
      ],
      "text/plain": [
       "   id source                         doi pmcid pubmed_id publish_time  \\\n",
       "0   0    CZI  10.1007/s00134-020-05985-9        32125455         2020   \n",
       "1   1    CZI   10.1038/s41421-020-0147-1                         2020   \n",
       "\n",
       "                                             authors             journal  \\\n",
       "0  Zhang, Haibo; Penninger, Josef M.; Li, Yimin; ...  Intensive Care Med   \n",
       "1  Cao, Yanan; Li, Lin; Feng, Zhimin; Wan, Shengq...      Cell Discovery   \n",
       "\n",
       "                                               title abstract  \\\n",
       "0  Angiotensin-converting enzyme 2 (ACE2) as a SA...            \n",
       "1  Comparative genetic analysis of the novel coro...            \n",
       "\n",
       "                                                body  \\\n",
       "0  SARS-CoV-2 has been sequenced [3] . A phylogen...   \n",
       "1  Comparative genetic analysis of the novel coro...   \n",
       "\n",
       "                                            entities  \n",
       "0  [{'text': 'Angiotensin-converting enzyme 2', '...  \n",
       "1  [{'text': 'genetic analysis', 'start': 12, 'en...  "
      ]
     },
     "execution_count": 7,
     "metadata": {},
     "output_type": "execute_result"
    }
   ],
   "source": [
    "df.head(2)"
   ]
  },
  {
   "cell_type": "code",
   "execution_count": 193,
   "metadata": {},
   "outputs": [
    {
     "data": {
      "text/plain": [
       "[{'text': 'Angiotensin-converting enzyme 2',\n",
       "  'start': 0,\n",
       "  'end': 31,\n",
       "  'type': 'GENE_OR_GENOME'},\n",
       " {'text': 'ACE2', 'start': 33, 'end': 37, 'type': 'GENE_OR_GENOME'},\n",
       " {'text': 'SARS-CoV-2', 'start': 44, 'end': 54, 'type': 'CORONAVIRUS'},\n",
       " {'text': 'receptor', 'start': 55, 'end': 63, 'type': 'CHEMICAL'},\n",
       " {'text': 'SARS-CoV-2', 'start': 120, 'end': 130, 'type': 'CORONAVIRUS'},\n",
       " {'text': 'phylogenetic', 'start': 158, 'end': 170, 'type': 'EVOLUTION'},\n",
       " {'text': 'bat', 'start': 195, 'end': 198, 'type': 'WILDLIFE'},\n",
       " {'text': 'SARS-CoV-2', 'start': 214, 'end': 224, 'type': 'CORONAVIRUS'},\n",
       " {'text': 'intermediate hosts', 'start': 259, 'end': 277, 'type': 'NORP'},\n",
       " {'text': 'SARS-CoV-2', 'start': 282, 'end': 292, 'type': 'CORONAVIRUS'},\n",
       " {'text': 'pangolins', 'start': 304, 'end': 313, 'type': 'WILDLIFE'},\n",
       " {'text': 'mice', 'start': 323, 'end': 327, 'type': 'ORGANISM'},\n",
       " {'text': 'rats', 'start': 332, 'end': 336, 'type': 'EUKARYOTE'},\n",
       " {'text': 'SARS-CoV-2', 'start': 374, 'end': 384, 'type': 'CORONAVIRUS'},\n",
       " {'text': 'SARS', 'start': 403, 'end': 407, 'type': 'CORONAVIRUS'},\n",
       " {'text': 'CoV', 'start': 408, 'end': 411, 'type': 'CORONAVIRUS'},\n",
       " {'text': 'Xu et al', 'start': 438, 'end': 446, 'type': 'PERSON'},\n",
       " {'text': 'spike proteins',\n",
       "  'start': 467,\n",
       "  'end': 481,\n",
       "  'type': 'GENE_OR_GENOME'},\n",
       " {'text': 'SARS-CoV-2', 'start': 485, 'end': 495, 'type': 'CORONAVIRUS'},\n",
       " {'text': 'SARS', 'start': 500, 'end': 504, 'type': 'CORONAVIRUS'},\n",
       " {'text': 'CoV', 'start': 505, 'end': 508, 'type': 'CORONAVIRUS'},\n",
       " {'text': 'van der Waals forces',\n",
       "  'start': 592,\n",
       "  'end': 612,\n",
       "  'type': 'PHYSICAL_SCIENCE'},\n",
       " {'text': 'SARS-CoV spike protein',\n",
       "  'start': 614,\n",
       "  'end': 636,\n",
       "  'type': 'CHEMICAL'},\n",
       " {'text': 'binding affinity',\n",
       "  'start': 650,\n",
       "  'end': 666,\n",
       "  'type': 'DISEASE_OR_SYNDROME'},\n",
       " {'text': 'human ACE2', 'start': 670, 'end': 680, 'type': 'ORGANISM'},\n",
       " {'text': 'crystal structure analysis [7',\n",
       "  'start': 727,\n",
       "  'end': 756,\n",
       "  'type': 'GENE_OR_GENOME'},\n",
       " {'text': 'SARS-CoV-2', 'start': 760, 'end': 770, 'type': 'CORONAVIRUS'},\n",
       " {'text': 'SARS', 'start': 775, 'end': 779, 'type': 'CORONAVIRUS'},\n",
       " {'text': 'CoV', 'start': 780, 'end': 783, 'type': 'CORONAVIRUS'},\n",
       " {'text': '76', 'start': 805, 'end': 807, 'type': 'DATE'},\n",
       " {'text': 'identity', 'start': 811, 'end': 819, 'type': 'DISEASE_OR_SYNDROME'},\n",
       " {'text': 'amino acid', 'start': 823, 'end': 833, 'type': 'CHEMICAL'},\n",
       " {'text': 'SARS-CoV-2', 'start': 870, 'end': 880, 'type': 'CORONAVIRUS'},\n",
       " {'text': 'SARS', 'start': 885, 'end': 889, 'type': 'CORONAVIRUS'},\n",
       " {'text': 'CoV', 'start': 890, 'end': 893, 'type': 'CORONAVIRUS'},\n",
       " {'text': 'Wan et al', 'start': 949, 'end': 958, 'type': 'PERSON'},\n",
       " {'text': '394', 'start': 986, 'end': 989, 'type': 'CARDINAL'},\n",
       " {'text': 'glutamine', 'start': 991, 'end': 1000, 'type': 'CHEMICAL'},\n",
       " {'text': 'SARS-CoV-2', 'start': 1009, 'end': 1019, 'type': 'CORONAVIRUS'},\n",
       " {'text': '479', 'start': 1076, 'end': 1079, 'type': 'CARDINAL'},\n",
       " {'text': 'SARS', 'start': 1083, 'end': 1087, 'type': 'CORONAVIRUS'},\n",
       " {'text': 'CoV', 'start': 1088, 'end': 1091, 'type': 'CORONAVIRUS'},\n",
       " {'text': 'lysine', 'start': 1127, 'end': 1133, 'type': 'CHEMICAL'},\n",
       " {'text': 'human ACE2 receptor [8',\n",
       "  'start': 1144,\n",
       "  'end': 1166,\n",
       "  'type': 'GENE_OR_GENOME'},\n",
       " {'text': 'SARS-CoV-2', 'start': 1207, 'end': 1217, 'type': 'CORONAVIRUS'},\n",
       " {'text': 'human ACE2', 'start': 1229, 'end': 1239, 'type': 'ORGANISM'},\n",
       " {'text': 'SARS', 'start': 1262, 'end': 1266, 'type': 'CORONAVIRUS'},\n",
       " {'text': 'CoV', 'start': 1267, 'end': 1270, 'type': 'CORONAVIRUS'},\n",
       " {'text': 'SARS-CoV-2', 'start': 1297, 'end': 1307, 'type': 'CORONAVIRUS'},\n",
       " {'text': 'SARS-CoV-2', 'start': 1358, 'end': 1368, 'type': 'CORONAVIRUS'},\n",
       " {'text': 'spike protein', 'start': 1369, 'end': 1382, 'type': 'CHEMICAL'},\n",
       " {'text': 'binding affinity',\n",
       "  'start': 1419,\n",
       "  'end': 1435,\n",
       "  'type': 'DISEASE_OR_SYNDROME'},\n",
       " {'text': 'human ACE2', 'start': 1439, 'end': 1449, 'type': 'ORGANISM'},\n",
       " {'text': 'SARS', 'start': 1472, 'end': 1476, 'type': 'CORONAVIRUS'},\n",
       " {'text': 'CoV', 'start': 1477, 'end': 1480, 'type': 'CORONAVIRUS'},\n",
       " {'text': 'ACE2', 'start': 1501, 'end': 1505, 'type': 'GENE_OR_GENOME'},\n",
       " {'text': 'SARS', 'start': 1522, 'end': 1526, 'type': 'CORONAVIRUS'},\n",
       " {'text': 'CoV', 'start': 1527, 'end': 1530, 'type': 'CORONAVIRUS'},\n",
       " {'text': 'receptor', 'start': 1531, 'end': 1539, 'type': 'CHEMICAL'},\n",
       " {'text': 'host cell', 'start': 1591, 'end': 1600, 'type': 'CHEMICAL'},\n",
       " {'text': 'Overexpression',\n",
       "  'start': 1641,\n",
       "  'end': 1655,\n",
       "  'type': 'MOLECULAR_FUNCTION'},\n",
       " {'text': 'human ACE2', 'start': 1659, 'end': 1669, 'type': 'ORGANISM'},\n",
       " {'text': 'mouse model',\n",
       "  'start': 1701,\n",
       "  'end': 1712,\n",
       "  'type': 'EXPERIMENTAL_MODEL_OF_DISEASE'},\n",
       " {'text': 'SARS', 'start': 1716, 'end': 1720, 'type': 'CORONAVIRUS'},\n",
       " {'text': 'CoV', 'start': 1721, 'end': 1724, 'type': 'CORONAVIRUS'},\n",
       " {'text': 'cells', 'start': 1772, 'end': 1777, 'type': 'CELL'},\n",
       " {'text': 'SARS', 'start': 1814, 'end': 1818, 'type': 'CORONAVIRUS'},\n",
       " {'text': 'CoV', 'start': 1819, 'end': 1822, 'type': 'CORONAVIRUS'},\n",
       " {'text': 'mice', 'start': 1834, 'end': 1838, 'type': 'ORGANISM'},\n",
       " {'text': 'lung injury',\n",
       "  'start': 1848,\n",
       "  'end': 1859,\n",
       "  'type': 'DISEASE_OR_SYNDROME'},\n",
       " {'text': 'angiotensin', 'start': 1922, 'end': 1933, 'type': 'CHEMICAL'},\n",
       " {'text': 'SARS', 'start': 1991, 'end': 1995, 'type': 'CORONAVIRUS'},\n",
       " {'text': 'CoV', 'start': 1996, 'end': 1999, 'type': 'CORONAVIRUS'},\n",
       " {'text': 'ACE2', 'start': 2014, 'end': 2018, 'type': 'GENE_OR_GENOME'},\n",
       " {'text': 'entry receptor', 'start': 2035, 'end': 2049, 'type': 'PERSON'},\n",
       " {'text': 'lung injury',\n",
       "  'start': 2086,\n",
       "  'end': 2097,\n",
       "  'type': 'DISEASE_OR_SYNDROME'},\n",
       " {'text': 'coronaviruses', 'start': 2164, 'end': 2177, 'type': 'CORONAVIRUS'},\n",
       " {'text': 'SARS', 'start': 2179, 'end': 2183, 'type': 'CORONAVIRUS'},\n",
       " {'text': 'CoV', 'start': 2184, 'end': 2187, 'type': 'CORONAVIRUS'},\n",
       " {'text': 'highly lethal',\n",
       "  'start': 2195,\n",
       "  'end': 2208,\n",
       "  'type': 'GENE_OR_GENOME'},\n",
       " {'text': 'lung',\n",
       "  'start': 2241,\n",
       "  'end': 2245,\n",
       "  'type': 'BODY_PART_ORGAN_OR_ORGAN_COMPONENT'},\n",
       " {'text': 'Zhou et al', 'start': 2276, 'end': 2286, 'type': 'PERSON'},\n",
       " {'text': 'ACE2', 'start': 2326, 'end': 2330, 'type': 'GENE_OR_GENOME'},\n",
       " {'text': 'HeLa cells', 'start': 2357, 'end': 2367, 'type': 'GENE_OR_GENOME'},\n",
       " {'text': 'human ACE2', 'start': 2373, 'end': 2383, 'type': 'ORGANISM'},\n",
       " {'text': 'pig', 'start': 2385, 'end': 2388, 'type': 'LIVESTOCK'},\n",
       " {'text': 'civet', 'start': 2395, 'end': 2400, 'type': 'EUKARYOTE'},\n",
       " {'text': 'mouse ACE2', 'start': 2415, 'end': 2425, 'type': 'ORGANISM'},\n",
       " {'text': 'SARS-CoV-2', 'start': 2435, 'end': 2445, 'type': 'CORONAVIRUS'},\n",
       " {'text': 'SARS-CoV-2', 'start': 2503, 'end': 2513, 'type': 'CORONAVIRUS'},\n",
       " {'text': 'ACE2', 'start': 2519, 'end': 2523, 'type': 'GENE_OR_GENOME'},\n",
       " {'text': 'cellular entry receptor',\n",
       "  'start': 2529,\n",
       "  'end': 2552,\n",
       "  'type': 'GENE_OR_GENOME'},\n",
       " {'text': 'SARS-CoV-2', 'start': 2585, 'end': 2595, 'type': 'CORONAVIRUS'},\n",
       " {'text': 'coronavirus', 'start': 2615, 'end': 2626, 'type': 'CORONAVIRUS'},\n",
       " {'text': 'receptors', 'start': 2627, 'end': 2636, 'type': 'CHEMICAL'},\n",
       " {'text': 'aminopeptidase', 'start': 2645, 'end': 2659, 'type': 'CHEMICAL'},\n",
       " {'text': 'dipeptidyl peptidase 4',\n",
       "  'start': 2666,\n",
       "  'end': 2688,\n",
       "  'type': 'CHEMICAL'},\n",
       " {'text': 'summary', 'start': 2699, 'end': 2706, 'type': 'ORG'},\n",
       " {'text': 'SARS-CoV-2', 'start': 2712, 'end': 2722, 'type': 'CORONAVIRUS'},\n",
       " {'text': 'spike protein', 'start': 2723, 'end': 2736, 'type': 'CHEMICAL'},\n",
       " {'text': 'binds', 'start': 2746, 'end': 2751, 'type': 'MOLECULAR_FUNCTION'},\n",
       " {'text': 'host cell surface ACE2 receptor',\n",
       "  'start': 2761,\n",
       "  'end': 2792,\n",
       "  'type': 'GENE_OR_GENOME'},\n",
       " {'text': 'lung',\n",
       "  'start': 2861,\n",
       "  'end': 2865,\n",
       "  'type': 'BODY_PART_ORGAN_OR_ORGAN_COMPONENT'},\n",
       " {'text': 'organ',\n",
       "  'start': 2907,\n",
       "  'end': 2912,\n",
       "  'type': 'BODY_PART_ORGAN_OR_ORGAN_COMPONENT'},\n",
       " {'text': 'One', 'start': 2914, 'end': 2917, 'type': 'CARDINAL'},\n",
       " {'text': 'lung',\n",
       "  'start': 2962,\n",
       "  'end': 2966,\n",
       "  'type': 'BODY_PART_ORGAN_OR_ORGAN_COMPONENT'},\n",
       " {'text': 'lung highly susceptible',\n",
       "  'start': 2977,\n",
       "  'end': 3000,\n",
       "  'type': 'DISEASE_OR_SYNDROME'},\n",
       " {'text': 'inhaled viruses', 'start': 3004, 'end': 3019, 'type': 'CHEMICAL'},\n",
       " {'text': 'lung tissue', 'start': 3073, 'end': 3084, 'type': 'TISSUE'},\n",
       " {'text': 'eight', 'start': 3090, 'end': 3095, 'type': 'CARDINAL'},\n",
       " {'text': 'donors', 'start': 3102, 'end': 3108, 'type': 'GROUP'},\n",
       " {'text': 'Zhao', 'start': 3110, 'end': 3114, 'type': 'DISEASE_OR_SYNDROME'},\n",
       " {'text': 'ACE2-expressing cells',\n",
       "  'start': 3152,\n",
       "  'end': 3173,\n",
       "  'type': 'GENE_OR_GENOME'},\n",
       " {'text': 'alveolar epithelial type II cells',\n",
       "  'start': 3179,\n",
       "  'end': 3212,\n",
       "  'type': 'CELL'},\n",
       " {'text': 'AECII', 'start': 3214, 'end': 3219, 'type': 'DISEASE_OR_SYNDROME'},\n",
       " {'text': 'cells', 'start': 3244, 'end': 3249, 'type': 'CELL'},\n",
       " {'text': 'ACE2', 'start': 3358, 'end': 3362, 'type': 'GENE_OR_GENOME'},\n",
       " {'text': 'AECII', 'start': 3374, 'end': 3379, 'type': 'DISEASE_OR_SYNDROME'},\n",
       " {'text': 'related genes', 'start': 3423, 'end': 3436, 'type': 'CHEMICAL'},\n",
       " {'text': 'viral genome',\n",
       "  'start': 3524,\n",
       "  'end': 3536,\n",
       "  'type': 'CELL_COMPONENT'},\n",
       " {'text': 'ACE2', 'start': 3576, 'end': 3580, 'type': 'GENE_OR_GENOME'},\n",
       " {'text': 'AECII', 'start': 3592, 'end': 3597, 'type': 'DISEASE_OR_SYNDROME'},\n",
       " {'text': 'coronaviral replication',\n",
       "  'start': 3609,\n",
       "  'end': 3632,\n",
       "  'type': 'DISEASE_OR_SYNDROME'},\n",
       " {'text': 'lung',\n",
       "  'start': 3640,\n",
       "  'end': 3644,\n",
       "  'type': 'BODY_PART_ORGAN_OR_ORGAN_COMPONENT'},\n",
       " {'text': 'ACE2 receptor',\n",
       "  'start': 3664,\n",
       "  'end': 3677,\n",
       "  'type': 'GENE_OR_GENOME'},\n",
       " {'text': 'extrapulmonary tissues',\n",
       "  'start': 3700,\n",
       "  'end': 3722,\n",
       "  'type': 'CHEMICAL'},\n",
       " {'text': 'heart',\n",
       "  'start': 3733,\n",
       "  'end': 3738,\n",
       "  'type': 'BODY_PART_ORGAN_OR_ORGAN_COMPONENT'},\n",
       " {'text': 'kidney',\n",
       "  'start': 3740,\n",
       "  'end': 3746,\n",
       "  'type': 'BODY_PART_ORGAN_OR_ORGAN_COMPONENT'},\n",
       " {'text': 'endothelium', 'start': 3748, 'end': 3759, 'type': 'TISSUE'},\n",
       " {'text': 'intestine',\n",
       "  'start': 3765,\n",
       "  'end': 3774,\n",
       "  'type': 'BODY_PART_ORGAN_OR_ORGAN_COMPONENT'},\n",
       " {'text': 'ACE2', 'start': 3815, 'end': 3819, 'type': 'GENE_OR_GENOME'},\n",
       " {'text': 'highly expressed',\n",
       "  'start': 3823,\n",
       "  'end': 3839,\n",
       "  'type': 'GENE_OR_GENOME'},\n",
       " {'text': 'luminal', 'start': 3847, 'end': 3854, 'type': 'CHEMICAL'},\n",
       " {'text': 'intestinal epithelial cells',\n",
       "  'start': 3866,\n",
       "  'end': 3893,\n",
       "  'type': 'GENE_OR_GENOME'},\n",
       " {'text': 'receptor', 'start': 3915, 'end': 3923, 'type': 'CHEMICAL'},\n",
       " {'text': 'nutrient', 'start': 3928, 'end': 3936, 'type': 'FOOD'},\n",
       " {'text': 'uptake', 'start': 3937, 'end': 3943, 'type': 'CELL_FUNCTION'},\n",
       " {'text': 'amino acid', 'start': 3963, 'end': 3973, 'type': 'CHEMICAL'},\n",
       " {'text': 'intestine',\n",
       "  'start': 4032,\n",
       "  'end': 4041,\n",
       "  'type': 'BODY_PART_ORGAN_OR_ORGAN_COMPONENT'},\n",
       " {'text': 'SARS-CoV-2', 'start': 4079, 'end': 4089, 'type': 'CORONAVIRUS'},\n",
       " {'text': 'infection',\n",
       "  'start': 4103,\n",
       "  'end': 4112,\n",
       "  'type': 'DISEASE_OR_SYNDROME'},\n",
       " {'text': 'SARS-CoV-2', 'start': 4220, 'end': 4230, 'type': 'CORONAVIRUS'},\n",
       " {'text': 'human', 'start': 4253, 'end': 4258, 'type': 'ORGANISM'},\n",
       " {'text': 'gut epithelium', 'start': 4259, 'end': 4273, 'type': 'CHEMICAL'},\n",
       " {'text': 'fecal-oral transmission',\n",
       "  'start': 4305,\n",
       "  'end': 4328,\n",
       "  'type': 'DISEASE_OR_SYNDROME'},\n",
       " {'text': 'ACE2', 'start': 4362, 'end': 4366, 'type': 'GENE_OR_GENOME'},\n",
       " {'text': 'organs',\n",
       "  'start': 4396,\n",
       "  'end': 4402,\n",
       "  'type': 'BODY_PART_ORGAN_OR_ORGAN_COMPONENT'},\n",
       " {'text': 'patients', 'start': 4457, 'end': 4465, 'type': 'GROUP'},\n",
       " {'text': '21] [22] [23', 'start': 4467, 'end': 4479, 'type': 'DATE'},\n",
       " {'text': 'Centers for Disease Control',\n",
       "  'start': 4518,\n",
       "  'end': 4545,\n",
       "  'type': 'CHEMICAL'},\n",
       " {'text': 'COVID-19', 'start': 4592, 'end': 4600, 'type': 'CORONAVIRUS'},\n",
       " {'text': 'mucus membranes',\n",
       "  'start': 4675,\n",
       "  'end': 4690,\n",
       "  'type': 'CELL_COMPONENT'},\n",
       " {'text': 'Fig', 'start': 4767, 'end': 4770, 'type': 'DISEASE_OR_SYNDROME'},\n",
       " {'text': 'spike1', 'start': 4794, 'end': 4800, 'type': 'GENE_OR_GENOME'},\n",
       " {'text': 'based vaccine', 'start': 4817, 'end': 4830, 'type': 'CHEMICAL'},\n",
       " {'text': 'ACE2', 'start': 4857, 'end': 4861, 'type': 'GENE_OR_GENOME'},\n",
       " {'text': 'SARS-CoV-2', 'start': 4869, 'end': 4879, 'type': 'CORONAVIRUS'},\n",
       " {'text': 'receptor', 'start': 4880, 'end': 4888, 'type': 'CHEMICAL'},\n",
       " {'text': 'Cell lines', 'start': 4890, 'end': 4900, 'type': 'CELL'},\n",
       " {'text': 'ACE2', 'start': 4954, 'end': 4958, 'type': 'GENE_OR_GENOME'},\n",
       " {'text': 'large-scale', 'start': 4984, 'end': 4995, 'type': 'GENE_OR_GENOME'},\n",
       " {'text': 'vaccine', 'start': 4996, 'end': 5003, 'type': 'CHEMICAL'},\n",
       " {'text': 'transmembrane protease serine 2',\n",
       "  'start': 5033,\n",
       "  'end': 5064,\n",
       "  'type': 'GENE_OR_GENOME'},\n",
       " {'text': 'TMPRSS2', 'start': 5066, 'end': 5073, 'type': 'GENE_OR_GENOME'},\n",
       " {'text': 'Hoffman',\n",
       "  'start': 5085,\n",
       "  'end': 5092,\n",
       "  'type': 'DISEASE_OR_SYNDROME'},\n",
       " {'text': 'spike protein', 'start': 5140, 'end': 5153, 'type': 'CHEMICAL'},\n",
       " {'text': 'transmembrane protease serine 2',\n",
       "  'start': 5165,\n",
       "  'end': 5196,\n",
       "  'type': 'GENE_OR_GENOME'},\n",
       " {'text': 'TMPRSS2', 'start': 5198, 'end': 5205, 'type': 'GENE_OR_GENOME'},\n",
       " {'text': 'SARS-CoV-2', 'start': 5250, 'end': 5260, 'type': 'CORONAVIRUS'},\n",
       " {'text': 'ACE2 receptor [26,', 'start': 5290, 'end': 5308, 'type': 'DATE'},\n",
       " {'text': '27', 'start': 5309, 'end': 5311, 'type': 'DATE'},\n",
       " {'text': 'serine protease',\n",
       "  'start': 5319,\n",
       "  'end': 5334,\n",
       "  'type': 'GENE_OR_GENOME'},\n",
       " {'text': 'inhibitor', 'start': 5335, 'end': 5344, 'type': 'CHEMICAL'},\n",
       " {'text': 'camostat mesylate', 'start': 5345, 'end': 5362, 'type': 'CHEMICAL'},\n",
       " {'text': 'Japan', 'start': 5376, 'end': 5381, 'type': 'GPE'},\n",
       " {'text': 'TMPRSS2', 'start': 5435, 'end': 5442, 'type': 'GENE_OR_GENOME'},\n",
       " {'text': '29', 'start': 5457, 'end': 5459, 'type': 'DATE'},\n",
       " {'text': 'ACE2', 'start': 5529, 'end': 5533, 'type': 'GENE_OR_GENOME'},\n",
       " {'text': 'SARS', 'start': 5538, 'end': 5542, 'type': 'CORONAVIRUS'},\n",
       " {'text': 'CoV', 'start': 5543, 'end': 5546, 'type': 'CORONAVIRUS'},\n",
       " {'text': 'ACE2', 'start': 5660, 'end': 5664, 'type': 'GENE_OR_GENOME'},\n",
       " {'text': 'SARS-CoV-2', 'start': 5669, 'end': 5679, 'type': 'CORONAVIRUS'},\n",
       " {'text': 'antibodies', 'start': 5731, 'end': 5741, 'type': 'CHEMICAL'},\n",
       " {'text': 'small molecules',\n",
       "  'start': 5745,\n",
       "  'end': 5760,\n",
       "  'type': 'CELL_COMPONENT'},\n",
       " {'text': 'Kuba et al', 'start': 5762, 'end': 5772, 'type': 'PERSON'},\n",
       " {'text': 'mice', 'start': 5795, 'end': 5799, 'type': 'ORGANISM'},\n",
       " {'text': 'SARS', 'start': 5805, 'end': 5809, 'type': 'CORONAVIRUS'},\n",
       " {'text': 'CoV', 'start': 5810, 'end': 5813, 'type': 'CORONAVIRUS'},\n",
       " {'text': 'ACE2', 'start': 5828, 'end': 5832, 'type': 'GENE_OR_GENOME'},\n",
       " {'text': 'ACE', 'start': 5850, 'end': 5853, 'type': 'GENE_OR_GENOME'},\n",
       " {'text': 'spike protein', 'start': 5870, 'end': 5883, 'type': 'CHEMICAL'},\n",
       " {'text': 'severe lung injury',\n",
       "  'start': 5901,\n",
       "  'end': 5919,\n",
       "  'type': 'CHEMICAL'},\n",
       " {'text': 'ACE2', 'start': 5950, 'end': 5954, 'type': 'GENE_OR_GENOME'},\n",
       " {'text': 'competitively bind',\n",
       "  'start': 5959,\n",
       "  'end': 5977,\n",
       "  'type': 'GENE_OR_GENOME'},\n",
       " {'text': 'SARS-CoV-2', 'start': 5983, 'end': 5993, 'type': 'CORONAVIRUS'},\n",
       " {'text': 'cellular', 'start': 6043, 'end': 6051, 'type': 'CELL'},\n",
       " {'text': 'negatively regulates',\n",
       "  'start': 6072,\n",
       "  'end': 6092,\n",
       "  'type': 'GENE_OR_GENOME'},\n",
       " {'text': 'angiotensin', 'start': 6103, 'end': 6114, 'type': 'CHEMICAL'},\n",
       " {'text': 'RAS', 'start': 6123, 'end': 6126, 'type': 'GENE_OR_GENOME'},\n",
       " {'text': 'lung',\n",
       "  'start': 6143,\n",
       "  'end': 6147,\n",
       "  'type': 'BODY_PART_ORGAN_OR_ORGAN_COMPONENT'},\n",
       " {'text': '30', 'start': 6165, 'end': 6167, 'type': 'DATE'},\n",
       " {'text': 'ACE', 'start': 6188, 'end': 6191, 'type': 'GENE_OR_GENOME'},\n",
       " {'text': 'ACE2', 'start': 6215, 'end': 6219, 'type': 'GENE_OR_GENOME'},\n",
       " {'text': 'lung injury',\n",
       "  'start': 6247,\n",
       "  'end': 6258,\n",
       "  'type': 'DISEASE_OR_SYNDROME'},\n",
       " {'text': 'acid', 'start': 6266, 'end': 6270, 'type': 'CHEMICAL'},\n",
       " {'text': '12, 31', 'start': 6307, 'end': 6313, 'type': 'DATE'},\n",
       " {'text': '32', 'start': 6315, 'end': 6317, 'type': 'DATE'},\n",
       " {'text': 'ACE2', 'start': 6360, 'end': 6364, 'type': 'GENE_OR_GENOME'},\n",
       " {'text': 'functions',\n",
       "  'start': 6387,\n",
       "  'end': 6396,\n",
       "  'type': 'DAILY_OR_RECREATIONAL_ACTIVITY'},\n",
       " {'text': 'cells', 'start': 6424, 'end': 6429, 'type': 'CELL'},\n",
       " {'text': 'lung',\n",
       "  'start': 6480,\n",
       "  'end': 6484,\n",
       "  'type': 'BODY_PART_ORGAN_OR_ORGAN_COMPONENT'},\n",
       " {'text': '12', 'start': 6502, 'end': 6504, 'type': 'DATE'},\n",
       " {'text': '31', 'start': 6506, 'end': 6508, 'type': 'DATE'},\n",
       " {'text': '32', 'start': 6510, 'end': 6512, 'type': 'DATE'},\n",
       " {'text': 'human ACE2', 'start': 6539, 'end': 6549, 'type': 'ORGANISM'},\n",
       " {'text': 'rhACE2', 'start': 6551, 'end': 6557, 'type': 'GENE_OR_GENOME'},\n",
       " {'text': 'APN01', 'start': 6559, 'end': 6564, 'type': 'CHEMICAL'},\n",
       " {'text': 'GSK2586881', 'start': 6566, 'end': 6576, 'type': 'GENE_OR_GENOME'},\n",
       " {'text': 'hemodynamic effects',\n",
       "  'start': 6622,\n",
       "  'end': 6641,\n",
       "  'type': 'DISEASE_OR_SYNDROME'},\n",
       " {'text': 'healthy volunteers',\n",
       "  'start': 6645,\n",
       "  'end': 6663,\n",
       "  'type': 'DISEASE_OR_SYNDROME'},\n",
       " {'text': 'cohort', 'start': 6679, 'end': 6685, 'type': 'GROUP'},\n",
       " {'text': 'patients', 'start': 6689, 'end': 6697, 'type': 'GROUP'},\n",
       " {'text': 'ARDS', 'start': 6703, 'end': 6707, 'type': 'DISEASE_OR_SYNDROME'},\n",
       " {'text': '33] [34] [35', 'start': 6709, 'end': 6721, 'type': 'DATE'},\n",
       " {'text': 'APN01', 'start': 6747, 'end': 6752, 'type': 'CHEMICAL'},\n",
       " {'text': 'peptide', 'start': 6804, 'end': 6811, 'type': 'CHEMICAL'},\n",
       " {'text': 'angiotensin II', 'start': 6812, 'end': 6826, 'type': 'CHEMICAL'},\n",
       " {'text': 'plasma', 'start': 6850, 'end': 6856, 'type': 'BODY_SUBSTANCE'},\n",
       " {'text': 'IL-6', 'start': 6857, 'end': 6861, 'type': 'CHEMICAL'},\n",
       " {'text': 'SARS', 'start': 6899, 'end': 6903, 'type': 'CORONAVIRUS'},\n",
       " {'text': 'CoV', 'start': 6904, 'end': 6907, 'type': 'CORONAVIRUS'},\n",
       " {'text': 'ACE2', 'start': 6927, 'end': 6931, 'type': 'GENE_OR_GENOME'},\n",
       " {'text': 'COVID-19', 'start': 7007, 'end': 7015, 'type': 'CORONAVIRUS'},\n",
       " {'text': 'ACE2', 'start': 7058, 'end': 7062, 'type': 'GENE_OR_GENOME'},\n",
       " {'text': 'scientists', 'start': 7129, 'end': 7139, 'type': 'GROUP'},\n",
       " {'text': 'rhACE2', 'start': 7190, 'end': 7196, 'type': 'GENE_OR_GENOME'},\n",
       " {'text': 'patients', 'start': 7200, 'end': 7208, 'type': 'GROUP'},\n",
       " {'text': 'COVID-19', 'start': 7221, 'end': 7229, 'type': 'CORONAVIRUS'},\n",
       " {'text': 'NCT04287686', 'start': 7251, 'end': 7262, 'type': 'CHEMICAL'},\n",
       " {'text': 'Josef Penninger',\n",
       "  'start': 7266,\n",
       "  'end': 7281,\n",
       "  'type': 'DISEASE_OR_SYNDROME'},\n",
       " {'text': 'Apeiron', 'start': 7318, 'end': 7325, 'type': 'CHEMICAL'},\n",
       " {'text': 'rhACE2', 'start': 7350, 'end': 7356, 'type': 'GENE_OR_GENOME'},\n",
       " {'text': 'Arthur Slutsky', 'start': 7358, 'end': 7372, 'type': 'PERSON'},\n",
       " {'text': 'Apeiron', 'start': 7404, 'end': 7411, 'type': 'CHEMICAL'},\n",
       " {'text': 'conflicts',\n",
       "  'start': 7422,\n",
       "  'end': 7431,\n",
       "  'type': 'INDIVIDUAL_BEHAVIOR'},\n",
       " {'text': 'International License',\n",
       "  'start': 7546,\n",
       "  'end': 7567,\n",
       "  'type': 'CHEMICAL'},\n",
       " {'text': 'adaptation', 'start': 7616, 'end': 7626, 'type': 'EVOLUTION'},\n",
       " {'text': 'Creative Commons',\n",
       "  'start': 7786,\n",
       "  'end': 7802,\n",
       "  'type': 'GENE_OR_GENOME'},\n",
       " {'text': 'licence',\n",
       "  'start': 7803,\n",
       "  'end': 7810,\n",
       "  'type': 'GOVERNMENTAL_OR_REGULATORY_ACTIVITY'},\n",
       " {'text': 'third', 'start': 7867, 'end': 7872, 'type': 'ORDINAL'},\n",
       " {'text': 'Creative Commons',\n",
       "  'start': 7934,\n",
       "  'end': 7950,\n",
       "  'type': 'GENE_OR_GENOME'},\n",
       " {'text': 'licence',\n",
       "  'start': 7951,\n",
       "  'end': 7958,\n",
       "  'type': 'GOVERNMENTAL_OR_REGULATORY_ACTIVITY'},\n",
       " {'text': 'line', 'start': 7999, 'end': 8003, 'type': 'CELL'},\n",
       " {'text': 'Creative Commons',\n",
       "  'start': 8066,\n",
       "  'end': 8082,\n",
       "  'type': 'GENE_OR_GENOME'},\n",
       " {'text': 'licence',\n",
       "  'start': 8083,\n",
       "  'end': 8090,\n",
       "  'type': 'GOVERNMENTAL_OR_REGULATORY_ACTIVITY'},\n",
       " {'text': 'licence',\n",
       "  'start': 8277,\n",
       "  'end': 8284,\n",
       "  'type': 'GOVERNMENTAL_OR_REGULATORY_ACTIVITY'},\n",
       " {'text': 'http://creat iveco mmons',\n",
       "  'start': 8292,\n",
       "  'end': 8316,\n",
       "  'type': 'CHEMICAL'},\n",
       " {'text': 'org/licen', 'start': 8318, 'end': 8327, 'type': 'PERSON'},\n",
       " {'text': 'ACE2', 'start': 8376, 'end': 8380, 'type': 'GENE_OR_GENOME'},\n",
       " {'text': 'COVID-19', 'start': 8390, 'end': 8398, 'type': 'CORONAVIRUS'},\n",
       " {'text': 'SARS-CoV-2', 'start': 8409, 'end': 8419, 'type': 'CORONAVIRUS'},\n",
       " {'text': 'SARS-CoV-2', 'start': 8448, 'end': 8458, 'type': 'CORONAVIRUS'},\n",
       " {'text': 'SARS', 'start': 8463, 'end': 8467, 'type': 'CORONAVIRUS'},\n",
       " {'text': 'CoV', 'start': 8468, 'end': 8471, 'type': 'CORONAVIRUS'},\n",
       " {'text': 'ACE2 receptor',\n",
       "  'start': 8480,\n",
       "  'end': 8493,\n",
       "  'type': 'GENE_OR_GENOME'},\n",
       " {'text': 'cell', 'start': 8498, 'end': 8502, 'type': 'CELL'},\n",
       " {'text': 'SARS-CoV-2', 'start': 8554, 'end': 8564, 'type': 'CORONAVIRUS'},\n",
       " {'text': 'SARS', 'start': 8600, 'end': 8604, 'type': 'CORONAVIRUS'},\n",
       " {'text': 'CoV', 'start': 8605, 'end': 8608, 'type': 'CORONAVIRUS'},\n",
       " {'text': 'SARS-CoV-2', 'start': 8620, 'end': 8630, 'type': 'CORONAVIRUS'},\n",
       " {'text': 'downregulation',\n",
       "  'start': 8639,\n",
       "  'end': 8653,\n",
       "  'type': 'MOLECULAR_FUNCTION'},\n",
       " {'text': 'ACE2 receptor',\n",
       "  'start': 8661,\n",
       "  'end': 8674,\n",
       "  'type': 'GENE_OR_GENOME'},\n",
       " {'text': 'ACE', 'start': 8684, 'end': 8687, 'type': 'GENE_OR_GENOME'},\n",
       " {'text': 'spike protein', 'start': 8712, 'end': 8725, 'type': 'CHEMICAL'},\n",
       " {'text': 'ACE2', 'start': 8731, 'end': 8735, 'type': 'GENE_OR_GENOME'},\n",
       " {'text': 'severe lung injury',\n",
       "  'start': 8791,\n",
       "  'end': 8809,\n",
       "  'type': 'CHEMICAL'},\n",
       " {'text': 'SARS-CoV-2', 'start': 8854, 'end': 8864, 'type': 'CORONAVIRUS'},\n",
       " {'text': 'spike protein', 'start': 8865, 'end': 8878, 'type': 'CHEMICAL'},\n",
       " {'text': 'based vaccine', 'start': 8879, 'end': 8892, 'type': 'CHEMICAL'},\n",
       " {'text': 'transmembrane',\n",
       "  'start': 8896,\n",
       "  'end': 8909,\n",
       "  'type': 'CELL_COMPONENT'},\n",
       " {'text': 'protease', 'start': 8910, 'end': 8918, 'type': 'CHEMICAL'},\n",
       " {'text': 'serine 2', 'start': 8919, 'end': 8927, 'type': 'CHEMICAL'},\n",
       " {'text': 'TMPRSS2', 'start': 8929, 'end': 8936, 'type': 'GENE_OR_GENOME'},\n",
       " {'text': 'inhibitor', 'start': 8938, 'end': 8947, 'type': 'CHEMICAL'},\n",
       " {'text': 'spike protein', 'start': 8976, 'end': 8989, 'type': 'CHEMICAL'},\n",
       " {'text': 'surface', 'start': 9004, 'end': 9011, 'type': 'CELL_COMPONENT'},\n",
       " {'text': 'ACE2', 'start': 9040, 'end': 9044, 'type': 'GENE_OR_GENOME'},\n",
       " {'text': 'antibody', 'start': 9045, 'end': 9053, 'type': 'CELL_COMPONENT'},\n",
       " {'text': 'peptides', 'start': 9057, 'end': 9065, 'type': 'CHEMICAL'},\n",
       " {'text': 'ACE2', 'start': 9089, 'end': 9093, 'type': 'GENE_OR_GENOME'},\n",
       " {'text': 'cells', 'start': 9129, 'end': 9134, 'type': 'CELL'},\n",
       " {'text': 'SARS-CoV-2', 'start': 9170, 'end': 9180, 'type': 'CORONAVIRUS'},\n",
       " {'text': 'lung',\n",
       "  'start': 9239,\n",
       "  'end': 9243,\n",
       "  'type': 'BODY_PART_ORGAN_OR_ORGAN_COMPONENT'},\n",
       " {'text': 'MasR-mitochondrial assembly receptor',\n",
       "  'start': 9295,\n",
       "  'end': 9331,\n",
       "  'type': 'GENE_OR_GENOME'},\n",
       " {'text': 'AT1R', 'start': 9333, 'end': 9337, 'type': 'ORG'},\n",
       " {'text': 'Ang II type 1 receptor',\n",
       "  'start': 9338,\n",
       "  'end': 9360,\n",
       "  'type': 'GENE_OR_GENOME'}]"
      ]
     },
     "execution_count": 193,
     "metadata": {},
     "output_type": "execute_result"
    }
   ],
   "source": [
    "df.entities[0]"
   ]
  },
  {
   "cell_type": "code",
   "execution_count": 8,
   "metadata": {},
   "outputs": [],
   "source": [
    "df = df[df['title']!='']\n",
    "#Snce there are 370 rows with no title"
   ]
  },
  {
   "cell_type": "code",
   "execution_count": 35,
   "metadata": {},
   "outputs": [
    {
     "data": {
      "text/plain": [
       "(29130, 12)"
      ]
     },
     "execution_count": 35,
     "metadata": {},
     "output_type": "execute_result"
    }
   ],
   "source": [
    "df.shape"
   ]
  },
  {
   "cell_type": "markdown",
   "metadata": {},
   "source": [
    "Check for null values"
   ]
  },
  {
   "cell_type": "code",
   "execution_count": 46,
   "metadata": {},
   "outputs": [
    {
     "data": {
      "text/plain": [
       "index           0\n",
       "id              0\n",
       "source          0\n",
       "doi             0\n",
       "pmcid           0\n",
       "pubmed_id       0\n",
       "publish_time    0\n",
       "authors         0\n",
       "journal         0\n",
       "title           0\n",
       "abstract        0\n",
       "body            0\n",
       "entities        0\n",
       "dtype: int64"
      ]
     },
     "execution_count": 46,
     "metadata": {},
     "output_type": "execute_result"
    }
   ],
   "source": [
    "df.isnull().sum()"
   ]
  },
  {
   "cell_type": "markdown",
   "metadata": {},
   "source": [
    "let us check the entities"
   ]
  },
  {
   "cell_type": "code",
   "execution_count": 9,
   "metadata": {},
   "outputs": [],
   "source": [
    "df.reset_index(inplace=True)"
   ]
  },
  {
   "cell_type": "code",
   "execution_count": 14,
   "metadata": {},
   "outputs": [],
   "source": [
    "entity =[]\n",
    "for i in range(0,df.shape[0]):\n",
    "    for j in range(0,len(df.entities[i])):\n",
    "        entity.append(df.entities[i][j]['type'])\n",
    "# all entities are grouped in a list for the bar graph to count the frequency of the highest"
   ]
  },
  {
   "cell_type": "code",
   "execution_count": 15,
   "metadata": {},
   "outputs": [],
   "source": [
    "entity = pd.Series(entity)\n",
    "entity = entity.value_counts()"
   ]
  },
  {
   "cell_type": "code",
   "execution_count": 16,
   "metadata": {},
   "outputs": [
    {
     "data": {
      "text/plain": [
       "CHEMICAL                2119604\n",
       "GENE_OR_GENOME          1934600\n",
       "DISEASE_OR_SYNDROME      860453\n",
       "CARDINAL                 754580\n",
       "DATE                     686813\n",
       "                         ...   \n",
       "EDUCATIONAL_ACTIVITY       1739\n",
       "LANGUAGE                   1555\n",
       "PHYSICAL_SCIENCE           1407\n",
       "GROUP_ATTRIBUTE             865\n",
       "ARCHAEON                    497\n",
       "Length: 63, dtype: int64"
      ]
     },
     "execution_count": 16,
     "metadata": {},
     "output_type": "execute_result"
    }
   ],
   "source": [
    "entity"
   ]
  },
  {
   "cell_type": "code",
   "execution_count": 17,
   "metadata": {},
   "outputs": [
    {
     "data": {
      "image/png": "[encoded data removed]",
      "text/plain": [
       "<Figure size 1440x720 with 1 Axes>"
      ]
     },
     "metadata": {
      "needs_background": "light"
     },
     "output_type": "display_data"
    }
   ],
   "source": [
    "plt.figure(figsize=(20,10))\n",
    "plt.bar(entity.index[:10],height=entity.values[:10],color='red')\n",
    "plt.xticks(rotation=45)\n",
    "plt.show()"
   ]
  },
  {
   "cell_type": "markdown",
   "metadata": {},
   "source": [
    "The entities are compared in the barchart. CHEMICAL and GENE_OR_GENOME has highest count"
   ]
  },
  {
   "cell_type": "markdown",
   "metadata": {},
   "source": [
    "We will try kmeans clustering method to extract articles and group them "
   ]
  },
  {
   "cell_type": "code",
   "execution_count": 18,
   "metadata": {
    "scrolled": true
   },
   "outputs": [
    {
     "data": {
      "text/html": [
       "<div>\n",
       "<style scoped>\n",
       "    .dataframe tbody tr th:only-of-type {\n",
       "        vertical-align: middle;\n",
       "    }\n",
       "\n",
       "    .dataframe tbody tr th {\n",
       "        vertical-align: top;\n",
       "    }\n",
       "\n",
       "    .dataframe thead th {\n",
       "        text-align: right;\n",
       "    }\n",
       "</style>\n",
       "<table border=\"1\" class=\"dataframe\">\n",
       "  <thead>\n",
       "    <tr style=\"text-align: right;\">\n",
       "      <th></th>\n",
       "      <th>index</th>\n",
       "      <th>id</th>\n",
       "      <th>source</th>\n",
       "      <th>doi</th>\n",
       "      <th>pmcid</th>\n",
       "      <th>pubmed_id</th>\n",
       "      <th>publish_time</th>\n",
       "      <th>authors</th>\n",
       "      <th>journal</th>\n",
       "      <th>title</th>\n",
       "      <th>abstract</th>\n",
       "      <th>body</th>\n",
       "      <th>entities</th>\n",
       "    </tr>\n",
       "  </thead>\n",
       "  <tbody>\n",
       "    <tr>\n",
       "      <th>29128</th>\n",
       "      <td>29137</td>\n",
       "      <td>29137</td>\n",
       "      <td>biorxiv</td>\n",
       "      <td>doi.org/10.1101/2020.02.27.967760</td>\n",
       "      <td></td>\n",
       "      <td></td>\n",
       "      <td>2020-03-11</td>\n",
       "      <td>Li, M.; Chen, L.; Xiong, C.; Li, X.</td>\n",
       "      <td>0</td>\n",
       "      <td>The SARS-CoV-2 receptor ACE2 expression of mat...</td>\n",
       "      <td>Recent studies have demonstrated that SARS-CoV...</td>\n",
       "      <td>The new type of pneumonia caused by the SARS-C...</td>\n",
       "      <td>[{'text': 'SARS-CoV-2', 'start': 4, 'end': 14,...</td>\n",
       "    </tr>\n",
       "    <tr>\n",
       "      <th>29129</th>\n",
       "      <td>29138</td>\n",
       "      <td>29138</td>\n",
       "      <td>biorxiv</td>\n",
       "      <td>doi.org/10.1101/2020.03.09.984856</td>\n",
       "      <td></td>\n",
       "      <td></td>\n",
       "      <td>2020-03-11</td>\n",
       "      <td>Ekins, S.; Madrid, P.</td>\n",
       "      <td>0</td>\n",
       "      <td>Tilorone: A Broad-Spectrum Antiviral For Emerg...</td>\n",
       "      <td>Tilorone is a 50-year-old synthetic small-mole...</td>\n",
       "      <td>Tilorone is a 50-year-old synthetic small-mole...</td>\n",
       "      <td>[{'text': 'Tilorone', 'start': 0, 'end': 8, 't...</td>\n",
       "    </tr>\n",
       "  </tbody>\n",
       "</table>\n",
       "</div>"
      ],
      "text/plain": [
       "       index     id   source                                doi pmcid  \\\n",
       "29128  29137  29137  biorxiv  doi.org/10.1101/2020.02.27.967760         \n",
       "29129  29138  29138  biorxiv  doi.org/10.1101/2020.03.09.984856         \n",
       "\n",
       "      pubmed_id publish_time                              authors journal  \\\n",
       "29128             2020-03-11  Li, M.; Chen, L.; Xiong, C.; Li, X.       0   \n",
       "29129             2020-03-11                Ekins, S.; Madrid, P.       0   \n",
       "\n",
       "                                                   title  \\\n",
       "29128  The SARS-CoV-2 receptor ACE2 expression of mat...   \n",
       "29129  Tilorone: A Broad-Spectrum Antiviral For Emerg...   \n",
       "\n",
       "                                                abstract  \\\n",
       "29128  Recent studies have demonstrated that SARS-CoV...   \n",
       "29129  Tilorone is a 50-year-old synthetic small-mole...   \n",
       "\n",
       "                                                    body  \\\n",
       "29128  The new type of pneumonia caused by the SARS-C...   \n",
       "29129  Tilorone is a 50-year-old synthetic small-mole...   \n",
       "\n",
       "                                                entities  \n",
       "29128  [{'text': 'SARS-CoV-2', 'start': 4, 'end': 14,...  \n",
       "29129  [{'text': 'Tilorone', 'start': 0, 'end': 8, 't...  "
      ]
     },
     "execution_count": 18,
     "metadata": {},
     "output_type": "execute_result"
    }
   ],
   "source": [
    "df.tail(2)"
   ]
  },
  {
   "cell_type": "code",
   "execution_count": 10,
   "metadata": {},
   "outputs": [],
   "source": [
    "# we will need to extract the sentences from the text column and then embed them using the model\n",
    "articles_cluster = []\n",
    "for i in range(0,df.shape[0]):\n",
    "    articles_cluster.append(model.embed_sentence(preprocess_sentence(df.title[i])))"
   ]
  },
  {
   "cell_type": "code",
   "execution_count": 11,
   "metadata": {},
   "outputs": [],
   "source": [
    "articles_vector = np.array(articles_cluster)#convert the articles cluster to an numpy array"
   ]
  },
  {
   "cell_type": "code",
   "execution_count": 12,
   "metadata": {},
   "outputs": [
    {
     "data": {
      "text/plain": [
       "(29130, 1, 700)"
      ]
     },
     "execution_count": 12,
     "metadata": {},
     "output_type": "execute_result"
    }
   ],
   "source": [
    "articles_vector.shape"
   ]
  },
  {
   "cell_type": "code",
   "execution_count": 13,
   "metadata": {},
   "outputs": [
    {
     "data": {
      "text/plain": [
       "(1, 700)"
      ]
     },
     "execution_count": 13,
     "metadata": {},
     "output_type": "execute_result"
    }
   ],
   "source": [
    "articles_vector[0].shape # first title vector"
   ]
  },
  {
   "cell_type": "code",
   "execution_count": 14,
   "metadata": {},
   "outputs": [],
   "source": [
    "df_articles = pd.DataFrame(index = np.arange(df.shape[0]),columns=np.arange(0,articles_vector.shape[2]))"
   ]
  },
  {
   "cell_type": "code",
   "execution_count": 15,
   "metadata": {},
   "outputs": [
    {
     "data": {
      "text/plain": [
       "(29130, 700)"
      ]
     },
     "execution_count": 15,
     "metadata": {},
     "output_type": "execute_result"
    }
   ],
   "source": [
    "df_articles.shape"
   ]
  },
  {
   "cell_type": "code",
   "execution_count": 16,
   "metadata": {},
   "outputs": [],
   "source": [
    "for i in range(df.shape[0]):\n",
    "    df_articles.iloc[i] = articles_vector[i]"
   ]
  },
  {
   "cell_type": "code",
   "execution_count": 17,
   "metadata": {
    "scrolled": true
   },
   "outputs": [
    {
     "data": {
      "text/html": [
       "<div>\n",
       "<style scoped>\n",
       "    .dataframe tbody tr th:only-of-type {\n",
       "        vertical-align: middle;\n",
       "    }\n",
       "\n",
       "    .dataframe tbody tr th {\n",
       "        vertical-align: top;\n",
       "    }\n",
       "\n",
       "    .dataframe thead th {\n",
       "        text-align: right;\n",
       "    }\n",
       "</style>\n",
       "<table border=\"1\" class=\"dataframe\">\n",
       "  <thead>\n",
       "    <tr style=\"text-align: right;\">\n",
       "      <th></th>\n",
       "      <th>0</th>\n",
       "      <th>1</th>\n",
       "      <th>2</th>\n",
       "      <th>3</th>\n",
       "      <th>4</th>\n",
       "      <th>5</th>\n",
       "      <th>6</th>\n",
       "      <th>7</th>\n",
       "      <th>8</th>\n",
       "      <th>9</th>\n",
       "      <th>...</th>\n",
       "      <th>690</th>\n",
       "      <th>691</th>\n",
       "      <th>692</th>\n",
       "      <th>693</th>\n",
       "      <th>694</th>\n",
       "      <th>695</th>\n",
       "      <th>696</th>\n",
       "      <th>697</th>\n",
       "      <th>698</th>\n",
       "      <th>699</th>\n",
       "    </tr>\n",
       "  </thead>\n",
       "  <tbody>\n",
       "    <tr>\n",
       "      <th>0</th>\n",
       "      <td>-0.229183</td>\n",
       "      <td>0.500175</td>\n",
       "      <td>0.0289</td>\n",
       "      <td>0.003855</td>\n",
       "      <td>0.243581</td>\n",
       "      <td>0.085065</td>\n",
       "      <td>-0.118186</td>\n",
       "      <td>-0.0495</td>\n",
       "      <td>0.0146</td>\n",
       "      <td>0.138715</td>\n",
       "      <td>...</td>\n",
       "      <td>-0.064103</td>\n",
       "      <td>-0.205565</td>\n",
       "      <td>-0.125968</td>\n",
       "      <td>-0.119392</td>\n",
       "      <td>0.064084</td>\n",
       "      <td>0.216475</td>\n",
       "      <td>-0.195961</td>\n",
       "      <td>-0.041698</td>\n",
       "      <td>-0.069114</td>\n",
       "      <td>0.199023</td>\n",
       "    </tr>\n",
       "    <tr>\n",
       "      <th>1</th>\n",
       "      <td>-0.050632</td>\n",
       "      <td>0.481108</td>\n",
       "      <td>0.045197</td>\n",
       "      <td>-0.066107</td>\n",
       "      <td>0.218962</td>\n",
       "      <td>0.315102</td>\n",
       "      <td>0.000894</td>\n",
       "      <td>-0.123958</td>\n",
       "      <td>0.116242</td>\n",
       "      <td>0.244705</td>\n",
       "      <td>...</td>\n",
       "      <td>-0.215653</td>\n",
       "      <td>-0.20305</td>\n",
       "      <td>0.128101</td>\n",
       "      <td>0.147213</td>\n",
       "      <td>-0.084414</td>\n",
       "      <td>0.006462</td>\n",
       "      <td>-0.014605</td>\n",
       "      <td>-0.138314</td>\n",
       "      <td>-0.231735</td>\n",
       "      <td>0.042065</td>\n",
       "    </tr>\n",
       "    <tr>\n",
       "      <th>2</th>\n",
       "      <td>0.577315</td>\n",
       "      <td>0.813512</td>\n",
       "      <td>-0.398189</td>\n",
       "      <td>0.189031</td>\n",
       "      <td>0.070015</td>\n",
       "      <td>-0.302102</td>\n",
       "      <td>-0.655036</td>\n",
       "      <td>-0.692529</td>\n",
       "      <td>0.04195</td>\n",
       "      <td>0.73677</td>\n",
       "      <td>...</td>\n",
       "      <td>-0.420014</td>\n",
       "      <td>0.626387</td>\n",
       "      <td>-0.188321</td>\n",
       "      <td>0.421099</td>\n",
       "      <td>0.19805</td>\n",
       "      <td>-0.887021</td>\n",
       "      <td>0.84324</td>\n",
       "      <td>-1.047482</td>\n",
       "      <td>-0.314892</td>\n",
       "      <td>-0.137212</td>\n",
       "    </tr>\n",
       "    <tr>\n",
       "      <th>3</th>\n",
       "      <td>0.577315</td>\n",
       "      <td>0.813512</td>\n",
       "      <td>-0.398189</td>\n",
       "      <td>0.189031</td>\n",
       "      <td>0.070015</td>\n",
       "      <td>-0.302102</td>\n",
       "      <td>-0.655036</td>\n",
       "      <td>-0.692529</td>\n",
       "      <td>0.04195</td>\n",
       "      <td>0.73677</td>\n",
       "      <td>...</td>\n",
       "      <td>-0.420014</td>\n",
       "      <td>0.626387</td>\n",
       "      <td>-0.188321</td>\n",
       "      <td>0.421099</td>\n",
       "      <td>0.19805</td>\n",
       "      <td>-0.887021</td>\n",
       "      <td>0.84324</td>\n",
       "      <td>-1.047482</td>\n",
       "      <td>-0.314892</td>\n",
       "      <td>-0.137212</td>\n",
       "    </tr>\n",
       "    <tr>\n",
       "      <th>4</th>\n",
       "      <td>-0.221876</td>\n",
       "      <td>-0.174439</td>\n",
       "      <td>-0.144193</td>\n",
       "      <td>0.33354</td>\n",
       "      <td>0.06126</td>\n",
       "      <td>0.151437</td>\n",
       "      <td>-0.245559</td>\n",
       "      <td>-0.15443</td>\n",
       "      <td>0.311283</td>\n",
       "      <td>0.262655</td>\n",
       "      <td>...</td>\n",
       "      <td>-0.005657</td>\n",
       "      <td>-0.222302</td>\n",
       "      <td>-0.373521</td>\n",
       "      <td>-0.454768</td>\n",
       "      <td>-0.007866</td>\n",
       "      <td>0.187263</td>\n",
       "      <td>0.503395</td>\n",
       "      <td>-0.192208</td>\n",
       "      <td>0.370189</td>\n",
       "      <td>0.423959</td>\n",
       "    </tr>\n",
       "    <tr>\n",
       "      <th>...</th>\n",
       "      <td>...</td>\n",
       "      <td>...</td>\n",
       "      <td>...</td>\n",
       "      <td>...</td>\n",
       "      <td>...</td>\n",
       "      <td>...</td>\n",
       "      <td>...</td>\n",
       "      <td>...</td>\n",
       "      <td>...</td>\n",
       "      <td>...</td>\n",
       "      <td>...</td>\n",
       "      <td>...</td>\n",
       "      <td>...</td>\n",
       "      <td>...</td>\n",
       "      <td>...</td>\n",
       "      <td>...</td>\n",
       "      <td>...</td>\n",
       "      <td>...</td>\n",
       "      <td>...</td>\n",
       "      <td>...</td>\n",
       "      <td>...</td>\n",
       "    </tr>\n",
       "    <tr>\n",
       "      <th>29125</th>\n",
       "      <td>0.257407</td>\n",
       "      <td>0.527557</td>\n",
       "      <td>-0.172475</td>\n",
       "      <td>-0.281939</td>\n",
       "      <td>0.017653</td>\n",
       "      <td>0.26742</td>\n",
       "      <td>0.136885</td>\n",
       "      <td>0.144733</td>\n",
       "      <td>0.277161</td>\n",
       "      <td>0.259172</td>\n",
       "      <td>...</td>\n",
       "      <td>-0.183814</td>\n",
       "      <td>-0.074932</td>\n",
       "      <td>-0.121331</td>\n",
       "      <td>-0.161957</td>\n",
       "      <td>-0.123029</td>\n",
       "      <td>-0.027648</td>\n",
       "      <td>-0.180095</td>\n",
       "      <td>0.088356</td>\n",
       "      <td>-0.057311</td>\n",
       "      <td>-0.169447</td>\n",
       "    </tr>\n",
       "    <tr>\n",
       "      <th>29126</th>\n",
       "      <td>0.18769</td>\n",
       "      <td>0.4884</td>\n",
       "      <td>0.045389</td>\n",
       "      <td>0.030047</td>\n",
       "      <td>0.090557</td>\n",
       "      <td>0.209531</td>\n",
       "      <td>0.198532</td>\n",
       "      <td>0.174291</td>\n",
       "      <td>0.043984</td>\n",
       "      <td>0.122862</td>\n",
       "      <td>...</td>\n",
       "      <td>-0.356899</td>\n",
       "      <td>-0.031866</td>\n",
       "      <td>0.079943</td>\n",
       "      <td>-0.058378</td>\n",
       "      <td>0.118936</td>\n",
       "      <td>0.02529</td>\n",
       "      <td>-0.24587</td>\n",
       "      <td>-0.088356</td>\n",
       "      <td>0.068743</td>\n",
       "      <td>-0.095114</td>\n",
       "    </tr>\n",
       "    <tr>\n",
       "      <th>29127</th>\n",
       "      <td>-0.099764</td>\n",
       "      <td>0.322724</td>\n",
       "      <td>-0.156672</td>\n",
       "      <td>-0.371651</td>\n",
       "      <td>-0.084756</td>\n",
       "      <td>0.346951</td>\n",
       "      <td>-0.088342</td>\n",
       "      <td>-0.144955</td>\n",
       "      <td>0.142729</td>\n",
       "      <td>0.335452</td>\n",
       "      <td>...</td>\n",
       "      <td>-0.178886</td>\n",
       "      <td>-0.18498</td>\n",
       "      <td>0.272601</td>\n",
       "      <td>-0.068751</td>\n",
       "      <td>-0.102914</td>\n",
       "      <td>0.057937</td>\n",
       "      <td>0.115529</td>\n",
       "      <td>-0.254423</td>\n",
       "      <td>-0.253983</td>\n",
       "      <td>0.229428</td>\n",
       "    </tr>\n",
       "    <tr>\n",
       "      <th>29128</th>\n",
       "      <td>-0.215069</td>\n",
       "      <td>0.332048</td>\n",
       "      <td>0.05377</td>\n",
       "      <td>-0.089903</td>\n",
       "      <td>0.298615</td>\n",
       "      <td>0.120763</td>\n",
       "      <td>0.107292</td>\n",
       "      <td>-0.121588</td>\n",
       "      <td>0.175306</td>\n",
       "      <td>0.225252</td>\n",
       "      <td>...</td>\n",
       "      <td>-0.075676</td>\n",
       "      <td>0.038898</td>\n",
       "      <td>-0.065003</td>\n",
       "      <td>-0.033764</td>\n",
       "      <td>0.182621</td>\n",
       "      <td>-0.020982</td>\n",
       "      <td>-0.148105</td>\n",
       "      <td>0.023885</td>\n",
       "      <td>0.078158</td>\n",
       "      <td>-0.06233</td>\n",
       "    </tr>\n",
       "    <tr>\n",
       "      <th>29129</th>\n",
       "      <td>0.0</td>\n",
       "      <td>0.0</td>\n",
       "      <td>0.0</td>\n",
       "      <td>0.0</td>\n",
       "      <td>0.0</td>\n",
       "      <td>0.0</td>\n",
       "      <td>0.0</td>\n",
       "      <td>0.0</td>\n",
       "      <td>0.0</td>\n",
       "      <td>0.0</td>\n",
       "      <td>...</td>\n",
       "      <td>0.0</td>\n",
       "      <td>0.0</td>\n",
       "      <td>0.0</td>\n",
       "      <td>0.0</td>\n",
       "      <td>0.0</td>\n",
       "      <td>0.0</td>\n",
       "      <td>0.0</td>\n",
       "      <td>0.0</td>\n",
       "      <td>0.0</td>\n",
       "      <td>0.0</td>\n",
       "    </tr>\n",
       "  </tbody>\n",
       "</table>\n",
       "<p>29130 rows × 700 columns</p>\n",
       "</div>"
      ],
      "text/plain": [
       "            0         1         2         3         4         5         6    \\\n",
       "0     -0.229183  0.500175    0.0289  0.003855  0.243581  0.085065 -0.118186   \n",
       "1     -0.050632  0.481108  0.045197 -0.066107  0.218962  0.315102  0.000894   \n",
       "2      0.577315  0.813512 -0.398189  0.189031  0.070015 -0.302102 -0.655036   \n",
       "3      0.577315  0.813512 -0.398189  0.189031  0.070015 -0.302102 -0.655036   \n",
       "4     -0.221876 -0.174439 -0.144193   0.33354   0.06126  0.151437 -0.245559   \n",
       "...         ...       ...       ...       ...       ...       ...       ...   \n",
       "29125  0.257407  0.527557 -0.172475 -0.281939  0.017653   0.26742  0.136885   \n",
       "29126   0.18769    0.4884  0.045389  0.030047  0.090557  0.209531  0.198532   \n",
       "29127 -0.099764  0.322724 -0.156672 -0.371651 -0.084756  0.346951 -0.088342   \n",
       "29128 -0.215069  0.332048   0.05377 -0.089903  0.298615  0.120763  0.107292   \n",
       "29129       0.0       0.0       0.0       0.0       0.0       0.0       0.0   \n",
       "\n",
       "            7         8         9    ...       690       691       692  \\\n",
       "0       -0.0495    0.0146  0.138715  ... -0.064103 -0.205565 -0.125968   \n",
       "1     -0.123958  0.116242  0.244705  ... -0.215653  -0.20305  0.128101   \n",
       "2     -0.692529   0.04195   0.73677  ... -0.420014  0.626387 -0.188321   \n",
       "3     -0.692529   0.04195   0.73677  ... -0.420014  0.626387 -0.188321   \n",
       "4      -0.15443  0.311283  0.262655  ... -0.005657 -0.222302 -0.373521   \n",
       "...         ...       ...       ...  ...       ...       ...       ...   \n",
       "29125  0.144733  0.277161  0.259172  ... -0.183814 -0.074932 -0.121331   \n",
       "29126  0.174291  0.043984  0.122862  ... -0.356899 -0.031866  0.079943   \n",
       "29127 -0.144955  0.142729  0.335452  ... -0.178886  -0.18498  0.272601   \n",
       "29128 -0.121588  0.175306  0.225252  ... -0.075676  0.038898 -0.065003   \n",
       "29129       0.0       0.0       0.0  ...       0.0       0.0       0.0   \n",
       "\n",
       "            693       694       695       696       697       698       699  \n",
       "0     -0.119392  0.064084  0.216475 -0.195961 -0.041698 -0.069114  0.199023  \n",
       "1      0.147213 -0.084414  0.006462 -0.014605 -0.138314 -0.231735  0.042065  \n",
       "2      0.421099   0.19805 -0.887021   0.84324 -1.047482 -0.314892 -0.137212  \n",
       "3      0.421099   0.19805 -0.887021   0.84324 -1.047482 -0.314892 -0.137212  \n",
       "4     -0.454768 -0.007866  0.187263  0.503395 -0.192208  0.370189  0.423959  \n",
       "...         ...       ...       ...       ...       ...       ...       ...  \n",
       "29125 -0.161957 -0.123029 -0.027648 -0.180095  0.088356 -0.057311 -0.169447  \n",
       "29126 -0.058378  0.118936   0.02529  -0.24587 -0.088356  0.068743 -0.095114  \n",
       "29127 -0.068751 -0.102914  0.057937  0.115529 -0.254423 -0.253983  0.229428  \n",
       "29128 -0.033764  0.182621 -0.020982 -0.148105  0.023885  0.078158  -0.06233  \n",
       "29129       0.0       0.0       0.0       0.0       0.0       0.0       0.0  \n",
       "\n",
       "[29130 rows x 700 columns]"
      ]
     },
     "execution_count": 17,
     "metadata": {},
     "output_type": "execute_result"
    }
   ],
   "source": [
    "df_articles"
   ]
  },
  {
   "cell_type": "code",
   "execution_count": 50,
   "metadata": {},
   "outputs": [],
   "source": [
    "df_articles.to_csv('article_title_vectors.csv')"
   ]
  },
  {
   "cell_type": "markdown",
   "metadata": {},
   "source": [
    "Written to a csv file above"
   ]
  },
  {
   "cell_type": "markdown",
   "metadata": {},
   "source": [
    "Applying the Kmeans"
   ]
  },
  {
   "cell_type": "code",
   "execution_count": 65,
   "metadata": {},
   "outputs": [],
   "source": [
    "wcss = []\n",
    "kmeans = KMeans(n_clusters=15, max_iter=300, n_init=10, random_state=0)\n",
    "for i in range(1,15):\n",
    "    kmeans.set_params(n_clusters=i)\n",
    "    kmeans.fit(df_articles)\n",
    "    wcss.append(kmeans.inertia_)"
   ]
  },
  {
   "cell_type": "code",
   "execution_count": 68,
   "metadata": {},
   "outputs": [
    {
     "data": {
      "text/plain": [
       "(0.0, 20.0)"
      ]
     },
     "execution_count": 68,
     "metadata": {},
     "output_type": "execute_result"
    },
    {
     "data": {
      "image/png": "[encoded data removed]",
      "text/plain": [
       "<Figure size 432x288 with 1 Axes>"
      ]
     },
     "metadata": {
      "needs_background": "light"
     },
     "output_type": "display_data"
    }
   ],
   "source": [
    "plt.plot(wcss)\n",
    "plt.xlim(0,)"
   ]
  },
  {
   "cell_type": "code",
   "execution_count": null,
   "metadata": {},
   "outputs": [],
   "source": [
    "kmeans "
   ]
  },
  {
   "cell_type": "markdown",
   "metadata": {},
   "source": [
    "## "
   ]
  },
  {
   "cell_type": "code",
   "execution_count": 18,
   "metadata": {},
   "outputs": [
    {
     "data": {
      "text/html": [
       "<style>#sk-container-id-1 {color: black;background-color: white;}#sk-container-id-1 pre{padding: 0;}#sk-container-id-1 div.sk-toggleable {background-color: white;}#sk-container-id-1 label.sk-toggleable__label {cursor: pointer;display: block;width: 100%;margin-bottom: 0;padding: 0.3em;box-sizing: border-box;text-align: center;}#sk-container-id-1 label.sk-toggleable__label-arrow:before {content: \"▸\";float: left;margin-right: 0.25em;color: #696969;}#sk-container-id-1 label.sk-toggleable__label-arrow:hover:before {color: black;}#sk-container-id-1 div.sk-estimator:hover label.sk-toggleable__label-arrow:before {color: black;}#sk-container-id-1 div.sk-toggleable__content {max-height: 0;max-width: 0;overflow: hidden;text-align: left;background-color: #f0f8ff;}#sk-container-id-1 div.sk-toggleable__content pre {margin: 0.2em;color: black;border-radius: 0.25em;background-color: #f0f8ff;}#sk-container-id-1 input.sk-toggleable__control:checked~div.sk-toggleable__content {max-height: 200px;max-width: 100%;overflow: auto;}#sk-container-id-1 input.sk-toggleable__control:checked~label.sk-toggleable__label-arrow:before {content: \"▾\";}#sk-container-id-1 div.sk-estimator input.sk-toggleable__control:checked~label.sk-toggleable__label {background-color: #d4ebff;}#sk-container-id-1 div.sk-label input.sk-toggleable__control:checked~label.sk-toggleable__label {background-color: #d4ebff;}#sk-container-id-1 input.sk-hidden--visually {border: 0;clip: rect(1px 1px 1px 1px);clip: rect(1px, 1px, 1px, 1px);height: 1px;margin: -1px;overflow: hidden;padding: 0;position: absolute;width: 1px;}#sk-container-id-1 div.sk-estimator {font-family: monospace;background-color: #f0f8ff;border: 1px dotted black;border-radius: 0.25em;box-sizing: border-box;margin-bottom: 0.5em;}#sk-container-id-1 div.sk-estimator:hover {background-color: #d4ebff;}#sk-container-id-1 div.sk-parallel-item::after {content: \"\";width: 100%;border-bottom: 1px solid gray;flex-grow: 1;}#sk-container-id-1 div.sk-label:hover label.sk-toggleable__label {background-color: #d4ebff;}#sk-container-id-1 div.sk-serial::before {content: \"\";position: absolute;border-left: 1px solid gray;box-sizing: border-box;top: 0;bottom: 0;left: 50%;z-index: 0;}#sk-container-id-1 div.sk-serial {display: flex;flex-direction: column;align-items: center;background-color: white;padding-right: 0.2em;padding-left: 0.2em;position: relative;}#sk-container-id-1 div.sk-item {position: relative;z-index: 1;}#sk-container-id-1 div.sk-parallel {display: flex;align-items: stretch;justify-content: center;background-color: white;position: relative;}#sk-container-id-1 div.sk-item::before, #sk-container-id-1 div.sk-parallel-item::before {content: \"\";position: absolute;border-left: 1px solid gray;box-sizing: border-box;top: 0;bottom: 0;left: 50%;z-index: -1;}#sk-container-id-1 div.sk-parallel-item {display: flex;flex-direction: column;z-index: 1;position: relative;background-color: white;}#sk-container-id-1 div.sk-parallel-item:first-child::after {align-self: flex-end;width: 50%;}#sk-container-id-1 div.sk-parallel-item:last-child::after {align-self: flex-start;width: 50%;}#sk-container-id-1 div.sk-parallel-item:only-child::after {width: 0;}#sk-container-id-1 div.sk-dashed-wrapped {border: 1px dashed gray;margin: 0 0.4em 0.5em 0.4em;box-sizing: border-box;padding-bottom: 0.4em;background-color: white;}#sk-container-id-1 div.sk-label label {font-family: monospace;font-weight: bold;display: inline-block;line-height: 1.2em;}#sk-container-id-1 div.sk-label-container {text-align: center;}#sk-container-id-1 div.sk-container {/* jupyter's `normalize.less` sets `[hidden] { display: none; }` but bootstrap.min.css set `[hidden] { display: none !important; }` so we also need the `!important` here to be able to override the default hidden behavior on the sphinx rendered scikit-learn.org. See: https://github.com/scikit-learn/scikit-learn/issues/21755 */display: inline-block !important;position: relative;}#sk-container-id-1 div.sk-text-repr-fallback {display: none;}</style><div id=\"sk-container-id-1\" class=\"sk-top-container\"><div class=\"sk-text-repr-fallback\"><pre>KMeans(n_clusters=12, random_state=0)</pre><b>In a Jupyter environment, please rerun this cell to show the HTML representation or trust the notebook. <br />On GitHub, the HTML representation is unable to render, please try loading this page with nbviewer.org.</b></div><div class=\"sk-container\" hidden><div class=\"sk-item\"><div class=\"sk-estimator sk-toggleable\"><input class=\"sk-toggleable__control sk-hidden--visually\" id=\"sk-estimator-id-1\" type=\"checkbox\" checked><label for=\"sk-estimator-id-1\" class=\"sk-toggleable__label sk-toggleable__label-arrow\">KMeans</label><div class=\"sk-toggleable__content\"><pre>KMeans(n_clusters=12, random_state=0)</pre></div></div></div></div></div>"
      ],
      "text/plain": [
       "KMeans(n_clusters=12, random_state=0)"
      ]
     },
     "execution_count": 18,
     "metadata": {},
     "output_type": "execute_result"
    }
   ],
   "source": [
    "kmeans = KMeans(n_clusters=12, max_iter=300, n_init=10, random_state=0)\n",
    "kmeans.fit(df_articles)"
   ]
  },
  {
   "cell_type": "code",
   "execution_count": 73,
   "metadata": {},
   "outputs": [
    {
     "data": {
      "text/plain": [
       "array([1, 3, 2, ..., 2, 1, 3], dtype=int32)"
      ]
     },
     "execution_count": 73,
     "metadata": {},
     "output_type": "execute_result"
    }
   ],
   "source": [
    "kmeans.labels_"
   ]
  },
  {
   "cell_type": "code",
   "execution_count": 19,
   "metadata": {},
   "outputs": [],
   "source": [
    "# function for prediction of any query\n",
    "def cluster_precict(x):\n",
    "    x = np.array(x,dtype=np.float)\n",
    "    pred = kmeans.predict(x)\n",
    "    return pred "
   ]
  },
  {
   "cell_type": "code",
   "execution_count": 104,
   "metadata": {},
   "outputs": [
    {
     "data": {
      "text/plain": [
       "array([0], dtype=int32)"
      ]
     },
     "execution_count": 104,
     "metadata": {},
     "output_type": "execute_result"
    }
   ],
   "source": [
    "cluster_precict(sentence_vector)# testing a prediction"
   ]
  },
  {
   "cell_type": "code",
   "execution_count": 21,
   "metadata": {},
   "outputs": [],
   "source": [
    "label = kmeans.fit_predict(df_articles)"
   ]
  },
  {
   "cell_type": "code",
   "execution_count": 22,
   "metadata": {},
   "outputs": [],
   "source": [
    "df_articles['label'] = label"
   ]
  },
  {
   "cell_type": "code",
   "execution_count": 23,
   "metadata": {},
   "outputs": [
    {
     "data": {
      "image/png": "[encoded data removed]",
      "text/plain": [
       "<Figure size 432x288 with 1 Axes>"
      ]
     },
     "metadata": {
      "needs_background": "light"
     },
     "output_type": "display_data"
    }
   ],
   "source": [
    "#plotting cluster label 1\n",
    "filtered_label0 = df_articles[label == 0] \n",
    "#plotting the results\n",
    "plt.scatter(filtered_label0.loc[:,0] , filtered_label0.loc[:,1])\n",
    "plt.show()"
   ]
  },
  {
   "cell_type": "code",
   "execution_count": 24,
   "metadata": {
    "scrolled": true
   },
   "outputs": [
    {
     "data": {
      "image/png": "[encoded data removed]",
      "text/plain": [
       "<Figure size 432x288 with 1 Axes>"
      ]
     },
     "metadata": {
      "needs_background": "light"
     },
     "output_type": "display_data"
    }
   ],
   "source": [
    "#Getting unique labels and polotting all cluster labels\n",
    " \n",
    "u_labels = np.unique(label)\n",
    " \n",
    "#plotting the results:\n",
    " \n",
    "for i in u_labels:\n",
    "    plt.scatter(df_articles.loc[label == i , 10] , df_articles.loc[label == i , 100] , label = i)\n",
    "plt.legend()\n",
    "plt.show()"
   ]
  },
  {
   "cell_type": "markdown",
   "metadata": {},
   "source": [
    "## As it looks dense we can try DBscan?"
   ]
  },
  {
   "cell_type": "code",
   "execution_count": 1,
   "metadata": {},
   "outputs": [
    {
     "ename": "NameError",
     "evalue": "name 'df_articles' is not defined",
     "output_type": "error",
     "traceback": [
      "\u001b[0;31m---------------------------------------------------------------------------\u001b[0m",
      "\u001b[0;31mNameError\u001b[0m                                 Traceback (most recent call last)",
      "Input \u001b[0;32mIn [1]\u001b[0m, in \u001b[0;36m<cell line: 3>\u001b[0;34m()\u001b[0m\n\u001b[1;32m      1\u001b[0m \u001b[38;5;28;01mfrom\u001b[39;00m \u001b[38;5;21;01msklearn\u001b[39;00m\u001b[38;5;21;01m.\u001b[39;00m\u001b[38;5;21;01mcluster\u001b[39;00m \u001b[38;5;28;01mimport\u001b[39;00m DBSCAN\n\u001b[1;32m      2\u001b[0m dbscan \u001b[38;5;241m=\u001b[39m DBSCAN(eps\u001b[38;5;241m=\u001b[39m\u001b[38;5;241m5\u001b[39m)\n\u001b[0;32m----> 3\u001b[0m dbscan\u001b[38;5;241m.\u001b[39mfit(\u001b[43mdf_articles\u001b[49m)\n",
      "\u001b[0;31mNameError\u001b[0m: name 'df_articles' is not defined"
     ]
    }
   ],
   "source": [
    "from sklearn.cluster import DBSCAN\n",
    "dbscan = DBSCAN(eps=5)\n",
    "dbscan.fit(df_articles)"
   ]
  },
  {
   "cell_type": "code",
   "execution_count": null,
   "metadata": {},
   "outputs": [],
   "source": [
    "df_articles['db_label'] = dbscan.labels_"
   ]
  },
  {
   "cell_type": "code",
   "execution_count": null,
   "metadata": {},
   "outputs": [],
   "source": [
    "df_articles['db_label'].value_counts()"
   ]
  },
  {
   "cell_type": "code",
   "execution_count": 148,
   "metadata": {},
   "outputs": [
    {
     "data": {
      "text/html": [
       "<div>\n",
       "<style scoped>\n",
       "    .dataframe tbody tr th:only-of-type {\n",
       "        vertical-align: middle;\n",
       "    }\n",
       "\n",
       "    .dataframe tbody tr th {\n",
       "        vertical-align: top;\n",
       "    }\n",
       "\n",
       "    .dataframe thead th {\n",
       "        text-align: right;\n",
       "    }\n",
       "</style>\n",
       "<table border=\"1\" class=\"dataframe\">\n",
       "  <thead>\n",
       "    <tr style=\"text-align: right;\">\n",
       "      <th></th>\n",
       "      <th>0</th>\n",
       "      <th>1</th>\n",
       "      <th>2</th>\n",
       "      <th>3</th>\n",
       "      <th>4</th>\n",
       "      <th>5</th>\n",
       "      <th>6</th>\n",
       "      <th>7</th>\n",
       "      <th>8</th>\n",
       "      <th>9</th>\n",
       "      <th>...</th>\n",
       "      <th>692</th>\n",
       "      <th>693</th>\n",
       "      <th>694</th>\n",
       "      <th>695</th>\n",
       "      <th>696</th>\n",
       "      <th>697</th>\n",
       "      <th>698</th>\n",
       "      <th>699</th>\n",
       "      <th>label</th>\n",
       "      <th>db_label</th>\n",
       "    </tr>\n",
       "  </thead>\n",
       "  <tbody>\n",
       "    <tr>\n",
       "      <th>0</th>\n",
       "      <td>-0.086536</td>\n",
       "      <td>0.31081</td>\n",
       "      <td>0.101684</td>\n",
       "      <td>-0.019396</td>\n",
       "      <td>0.416193</td>\n",
       "      <td>0.104258</td>\n",
       "      <td>-0.141617</td>\n",
       "      <td>0.130868</td>\n",
       "      <td>-0.112927</td>\n",
       "      <td>0.142367</td>\n",
       "      <td>...</td>\n",
       "      <td>0.032382</td>\n",
       "      <td>-0.06012</td>\n",
       "      <td>-0.07747</td>\n",
       "      <td>0.010202</td>\n",
       "      <td>-0.078862</td>\n",
       "      <td>-0.046948</td>\n",
       "      <td>-0.142233</td>\n",
       "      <td>0.265647</td>\n",
       "      <td>1</td>\n",
       "      <td>0</td>\n",
       "    </tr>\n",
       "    <tr>\n",
       "      <th>1</th>\n",
       "      <td>0.079848</td>\n",
       "      <td>0.460003</td>\n",
       "      <td>0.15982</td>\n",
       "      <td>-0.178652</td>\n",
       "      <td>0.353134</td>\n",
       "      <td>0.209907</td>\n",
       "      <td>-0.134953</td>\n",
       "      <td>0.061427</td>\n",
       "      <td>-0.061741</td>\n",
       "      <td>0.278511</td>\n",
       "      <td>...</td>\n",
       "      <td>0.216858</td>\n",
       "      <td>0.077333</td>\n",
       "      <td>-0.07596</td>\n",
       "      <td>-0.120516</td>\n",
       "      <td>-0.008956</td>\n",
       "      <td>-0.195667</td>\n",
       "      <td>-0.318385</td>\n",
       "      <td>0.195244</td>\n",
       "      <td>3</td>\n",
       "      <td>0</td>\n",
       "    </tr>\n",
       "    <tr>\n",
       "      <th>2</th>\n",
       "      <td>0.137431</td>\n",
       "      <td>0.08095</td>\n",
       "      <td>0.012767</td>\n",
       "      <td>-0.05746</td>\n",
       "      <td>0.091392</td>\n",
       "      <td>0.261665</td>\n",
       "      <td>-0.039086</td>\n",
       "      <td>-0.267013</td>\n",
       "      <td>0.095492</td>\n",
       "      <td>0.295916</td>\n",
       "      <td>...</td>\n",
       "      <td>-0.007551</td>\n",
       "      <td>0.01953</td>\n",
       "      <td>0.01353</td>\n",
       "      <td>-0.020448</td>\n",
       "      <td>0.102746</td>\n",
       "      <td>-0.125465</td>\n",
       "      <td>-0.182661</td>\n",
       "      <td>-0.020616</td>\n",
       "      <td>2</td>\n",
       "      <td>0</td>\n",
       "    </tr>\n",
       "    <tr>\n",
       "      <th>3</th>\n",
       "      <td>0.513761</td>\n",
       "      <td>0.688911</td>\n",
       "      <td>0.305947</td>\n",
       "      <td>-0.254045</td>\n",
       "      <td>0.120582</td>\n",
       "      <td>0.335439</td>\n",
       "      <td>0.136482</td>\n",
       "      <td>-0.376422</td>\n",
       "      <td>0.211201</td>\n",
       "      <td>0.46728</td>\n",
       "      <td>...</td>\n",
       "      <td>-0.021891</td>\n",
       "      <td>-0.350537</td>\n",
       "      <td>-0.1006</td>\n",
       "      <td>0.014875</td>\n",
       "      <td>0.26016</td>\n",
       "      <td>-0.239833</td>\n",
       "      <td>0.096492</td>\n",
       "      <td>-0.035191</td>\n",
       "      <td>0</td>\n",
       "      <td>0</td>\n",
       "    </tr>\n",
       "    <tr>\n",
       "      <th>4</th>\n",
       "      <td>-0.135192</td>\n",
       "      <td>-0.024293</td>\n",
       "      <td>-0.020515</td>\n",
       "      <td>0.148099</td>\n",
       "      <td>0.193088</td>\n",
       "      <td>0.070037</td>\n",
       "      <td>-0.176036</td>\n",
       "      <td>-0.143634</td>\n",
       "      <td>0.218701</td>\n",
       "      <td>0.198941</td>\n",
       "      <td>...</td>\n",
       "      <td>-0.272298</td>\n",
       "      <td>-0.332335</td>\n",
       "      <td>-0.035982</td>\n",
       "      <td>0.233552</td>\n",
       "      <td>0.469564</td>\n",
       "      <td>-0.021576</td>\n",
       "      <td>0.483406</td>\n",
       "      <td>0.324699</td>\n",
       "      <td>2</td>\n",
       "      <td>0</td>\n",
       "    </tr>\n",
       "    <tr>\n",
       "      <th>...</th>\n",
       "      <td>...</td>\n",
       "      <td>...</td>\n",
       "      <td>...</td>\n",
       "      <td>...</td>\n",
       "      <td>...</td>\n",
       "      <td>...</td>\n",
       "      <td>...</td>\n",
       "      <td>...</td>\n",
       "      <td>...</td>\n",
       "      <td>...</td>\n",
       "      <td>...</td>\n",
       "      <td>...</td>\n",
       "      <td>...</td>\n",
       "      <td>...</td>\n",
       "      <td>...</td>\n",
       "      <td>...</td>\n",
       "      <td>...</td>\n",
       "      <td>...</td>\n",
       "      <td>...</td>\n",
       "      <td>...</td>\n",
       "      <td>...</td>\n",
       "    </tr>\n",
       "    <tr>\n",
       "      <th>29125</th>\n",
       "      <td>0.276533</td>\n",
       "      <td>0.465274</td>\n",
       "      <td>-0.247294</td>\n",
       "      <td>-0.301858</td>\n",
       "      <td>0.094085</td>\n",
       "      <td>0.298866</td>\n",
       "      <td>0.128078</td>\n",
       "      <td>0.110252</td>\n",
       "      <td>0.198556</td>\n",
       "      <td>0.11652</td>\n",
       "      <td>...</td>\n",
       "      <td>-0.088129</td>\n",
       "      <td>-0.113639</td>\n",
       "      <td>-0.070698</td>\n",
       "      <td>-0.094249</td>\n",
       "      <td>-0.14798</td>\n",
       "      <td>0.101359</td>\n",
       "      <td>-0.074465</td>\n",
       "      <td>-0.277613</td>\n",
       "      <td>3</td>\n",
       "      <td>0</td>\n",
       "    </tr>\n",
       "    <tr>\n",
       "      <th>29126</th>\n",
       "      <td>0.123291</td>\n",
       "      <td>0.614099</td>\n",
       "      <td>-0.118011</td>\n",
       "      <td>-0.047422</td>\n",
       "      <td>0.013158</td>\n",
       "      <td>0.110394</td>\n",
       "      <td>0.115185</td>\n",
       "      <td>0.076143</td>\n",
       "      <td>0.001595</td>\n",
       "      <td>0.091384</td>\n",
       "      <td>...</td>\n",
       "      <td>-0.019863</td>\n",
       "      <td>-0.046356</td>\n",
       "      <td>0.164713</td>\n",
       "      <td>-0.037667</td>\n",
       "      <td>-0.203965</td>\n",
       "      <td>-0.059952</td>\n",
       "      <td>0.049814</td>\n",
       "      <td>-0.241245</td>\n",
       "      <td>1</td>\n",
       "      <td>0</td>\n",
       "    </tr>\n",
       "    <tr>\n",
       "      <th>29127</th>\n",
       "      <td>-0.105878</td>\n",
       "      <td>0.373296</td>\n",
       "      <td>-0.16173</td>\n",
       "      <td>-0.32585</td>\n",
       "      <td>-0.011681</td>\n",
       "      <td>0.35119</td>\n",
       "      <td>-0.019529</td>\n",
       "      <td>-0.175253</td>\n",
       "      <td>0.145701</td>\n",
       "      <td>0.363368</td>\n",
       "      <td>...</td>\n",
       "      <td>0.252274</td>\n",
       "      <td>0.006947</td>\n",
       "      <td>-0.013912</td>\n",
       "      <td>0.02674</td>\n",
       "      <td>0.07922</td>\n",
       "      <td>-0.307311</td>\n",
       "      <td>-0.171696</td>\n",
       "      <td>0.184253</td>\n",
       "      <td>2</td>\n",
       "      <td>0</td>\n",
       "    </tr>\n",
       "    <tr>\n",
       "      <th>29128</th>\n",
       "      <td>-0.084396</td>\n",
       "      <td>0.304359</td>\n",
       "      <td>0.182653</td>\n",
       "      <td>-0.268683</td>\n",
       "      <td>0.370308</td>\n",
       "      <td>0.049986</td>\n",
       "      <td>0.034978</td>\n",
       "      <td>-0.032146</td>\n",
       "      <td>0.03528</td>\n",
       "      <td>0.263371</td>\n",
       "      <td>...</td>\n",
       "      <td>-0.039425</td>\n",
       "      <td>0.000491</td>\n",
       "      <td>0.052711</td>\n",
       "      <td>-0.094105</td>\n",
       "      <td>-0.138083</td>\n",
       "      <td>-0.063745</td>\n",
       "      <td>-0.032544</td>\n",
       "      <td>0.059383</td>\n",
       "      <td>1</td>\n",
       "      <td>0</td>\n",
       "    </tr>\n",
       "    <tr>\n",
       "      <th>29129</th>\n",
       "      <td>0.123893</td>\n",
       "      <td>0.647319</td>\n",
       "      <td>-0.977639</td>\n",
       "      <td>-0.134098</td>\n",
       "      <td>0.117769</td>\n",
       "      <td>0.228099</td>\n",
       "      <td>-0.353933</td>\n",
       "      <td>-0.276595</td>\n",
       "      <td>0.348821</td>\n",
       "      <td>0.32925</td>\n",
       "      <td>...</td>\n",
       "      <td>0.265382</td>\n",
       "      <td>-0.161062</td>\n",
       "      <td>-0.09392</td>\n",
       "      <td>-0.123867</td>\n",
       "      <td>0.044357</td>\n",
       "      <td>0.335075</td>\n",
       "      <td>-0.147777</td>\n",
       "      <td>0.164286</td>\n",
       "      <td>3</td>\n",
       "      <td>0</td>\n",
       "    </tr>\n",
       "  </tbody>\n",
       "</table>\n",
       "<p>26442 rows × 702 columns</p>\n",
       "</div>"
      ],
      "text/plain": [
       "              0         1         2         3         4         5         6  \\\n",
       "0     -0.086536   0.31081  0.101684 -0.019396  0.416193  0.104258 -0.141617   \n",
       "1      0.079848  0.460003   0.15982 -0.178652  0.353134  0.209907 -0.134953   \n",
       "2      0.137431   0.08095  0.012767  -0.05746  0.091392  0.261665 -0.039086   \n",
       "3      0.513761  0.688911  0.305947 -0.254045  0.120582  0.335439  0.136482   \n",
       "4     -0.135192 -0.024293 -0.020515  0.148099  0.193088  0.070037 -0.176036   \n",
       "...         ...       ...       ...       ...       ...       ...       ...   \n",
       "29125  0.276533  0.465274 -0.247294 -0.301858  0.094085  0.298866  0.128078   \n",
       "29126  0.123291  0.614099 -0.118011 -0.047422  0.013158  0.110394  0.115185   \n",
       "29127 -0.105878  0.373296  -0.16173  -0.32585 -0.011681   0.35119 -0.019529   \n",
       "29128 -0.084396  0.304359  0.182653 -0.268683  0.370308  0.049986  0.034978   \n",
       "29129  0.123893  0.647319 -0.977639 -0.134098  0.117769  0.228099 -0.353933   \n",
       "\n",
       "              7         8         9  ...       692       693       694  \\\n",
       "0      0.130868 -0.112927  0.142367  ...  0.032382  -0.06012  -0.07747   \n",
       "1      0.061427 -0.061741  0.278511  ...  0.216858  0.077333  -0.07596   \n",
       "2     -0.267013  0.095492  0.295916  ... -0.007551   0.01953   0.01353   \n",
       "3     -0.376422  0.211201   0.46728  ... -0.021891 -0.350537   -0.1006   \n",
       "4     -0.143634  0.218701  0.198941  ... -0.272298 -0.332335 -0.035982   \n",
       "...         ...       ...       ...  ...       ...       ...       ...   \n",
       "29125  0.110252  0.198556   0.11652  ... -0.088129 -0.113639 -0.070698   \n",
       "29126  0.076143  0.001595  0.091384  ... -0.019863 -0.046356  0.164713   \n",
       "29127 -0.175253  0.145701  0.363368  ...  0.252274  0.006947 -0.013912   \n",
       "29128 -0.032146   0.03528  0.263371  ... -0.039425  0.000491  0.052711   \n",
       "29129 -0.276595  0.348821   0.32925  ...  0.265382 -0.161062  -0.09392   \n",
       "\n",
       "            695       696       697       698       699 label db_label  \n",
       "0      0.010202 -0.078862 -0.046948 -0.142233  0.265647     1        0  \n",
       "1     -0.120516 -0.008956 -0.195667 -0.318385  0.195244     3        0  \n",
       "2     -0.020448  0.102746 -0.125465 -0.182661 -0.020616     2        0  \n",
       "3      0.014875   0.26016 -0.239833  0.096492 -0.035191     0        0  \n",
       "4      0.233552  0.469564 -0.021576  0.483406  0.324699     2        0  \n",
       "...         ...       ...       ...       ...       ...   ...      ...  \n",
       "29125 -0.094249  -0.14798  0.101359 -0.074465 -0.277613     3        0  \n",
       "29126 -0.037667 -0.203965 -0.059952  0.049814 -0.241245     1        0  \n",
       "29127   0.02674   0.07922 -0.307311 -0.171696  0.184253     2        0  \n",
       "29128 -0.094105 -0.138083 -0.063745 -0.032544  0.059383     1        0  \n",
       "29129 -0.123867  0.044357  0.335075 -0.147777  0.164286     3        0  \n",
       "\n",
       "[26442 rows x 702 columns]"
      ]
     },
     "execution_count": 148,
     "metadata": {},
     "output_type": "execute_result"
    }
   ],
   "source": [
    "df_articles.loc[df_articles['db_label']==0]"
   ]
  },
  {
   "cell_type": "code",
   "execution_count": 153,
   "metadata": {
    "scrolled": true
   },
   "outputs": [
    {
     "data": {
      "image/png": "[encoded data removed]",
      "text/plain": [
       "<Figure size 432x288 with 1 Axes>"
      ]
     },
     "metadata": {
      "needs_background": "light"
     },
     "output_type": "display_data"
    }
   ],
   "source": [
    "db_labels = np.unique(dbscan.labels_)\n",
    " \n",
    "#plotting the results:\n",
    " \n",
    "for i in u_labels:\n",
    "    plt.scatter(df_articles.loc[df_articles['db_label']==i,10] , df_articles.loc[df_articles['db_label']==i,50] , label = i)\n",
    "plt.legend()\n",
    "plt.show()"
   ]
  },
  {
   "cell_type": "markdown",
   "metadata": {},
   "source": [
    "We can try the nearest neighbour model based on what we see in the clustering"
   ]
  },
  {
   "cell_type": "code",
   "execution_count": 173,
   "metadata": {},
   "outputs": [],
   "source": [
    "df_articles_knn = df_articles.drop(['label'], axis =1)"
   ]
  },
  {
   "cell_type": "code",
   "execution_count": 174,
   "metadata": {},
   "outputs": [],
   "source": [
    "df_articles_knn_target = df_articles['label']"
   ]
  },
  {
   "cell_type": "code",
   "execution_count": 179,
   "metadata": {},
   "outputs": [
    {
     "data": {
      "text/html": [
       "<style>#sk-container-id-7 {color: black;background-color: white;}#sk-container-id-7 pre{padding: 0;}#sk-container-id-7 div.sk-toggleable {background-color: white;}#sk-container-id-7 label.sk-toggleable__label {cursor: pointer;display: block;width: 100%;margin-bottom: 0;padding: 0.3em;box-sizing: border-box;text-align: center;}#sk-container-id-7 label.sk-toggleable__label-arrow:before {content: \"▸\";float: left;margin-right: 0.25em;color: #696969;}#sk-container-id-7 label.sk-toggleable__label-arrow:hover:before {color: black;}#sk-container-id-7 div.sk-estimator:hover label.sk-toggleable__label-arrow:before {color: black;}#sk-container-id-7 div.sk-toggleable__content {max-height: 0;max-width: 0;overflow: hidden;text-align: left;background-color: #f0f8ff;}#sk-container-id-7 div.sk-toggleable__content pre {margin: 0.2em;color: black;border-radius: 0.25em;background-color: #f0f8ff;}#sk-container-id-7 input.sk-toggleable__control:checked~div.sk-toggleable__content {max-height: 200px;max-width: 100%;overflow: auto;}#sk-container-id-7 input.sk-toggleable__control:checked~label.sk-toggleable__label-arrow:before {content: \"▾\";}#sk-container-id-7 div.sk-estimator input.sk-toggleable__control:checked~label.sk-toggleable__label {background-color: #d4ebff;}#sk-container-id-7 div.sk-label input.sk-toggleable__control:checked~label.sk-toggleable__label {background-color: #d4ebff;}#sk-container-id-7 input.sk-hidden--visually {border: 0;clip: rect(1px 1px 1px 1px);clip: rect(1px, 1px, 1px, 1px);height: 1px;margin: -1px;overflow: hidden;padding: 0;position: absolute;width: 1px;}#sk-container-id-7 div.sk-estimator {font-family: monospace;background-color: #f0f8ff;border: 1px dotted black;border-radius: 0.25em;box-sizing: border-box;margin-bottom: 0.5em;}#sk-container-id-7 div.sk-estimator:hover {background-color: #d4ebff;}#sk-container-id-7 div.sk-parallel-item::after {content: \"\";width: 100%;border-bottom: 1px solid gray;flex-grow: 1;}#sk-container-id-7 div.sk-label:hover label.sk-toggleable__label {background-color: #d4ebff;}#sk-container-id-7 div.sk-serial::before {content: \"\";position: absolute;border-left: 1px solid gray;box-sizing: border-box;top: 0;bottom: 0;left: 50%;z-index: 0;}#sk-container-id-7 div.sk-serial {display: flex;flex-direction: column;align-items: center;background-color: white;padding-right: 0.2em;padding-left: 0.2em;position: relative;}#sk-container-id-7 div.sk-item {position: relative;z-index: 1;}#sk-container-id-7 div.sk-parallel {display: flex;align-items: stretch;justify-content: center;background-color: white;position: relative;}#sk-container-id-7 div.sk-item::before, #sk-container-id-7 div.sk-parallel-item::before {content: \"\";position: absolute;border-left: 1px solid gray;box-sizing: border-box;top: 0;bottom: 0;left: 50%;z-index: -1;}#sk-container-id-7 div.sk-parallel-item {display: flex;flex-direction: column;z-index: 1;position: relative;background-color: white;}#sk-container-id-7 div.sk-parallel-item:first-child::after {align-self: flex-end;width: 50%;}#sk-container-id-7 div.sk-parallel-item:last-child::after {align-self: flex-start;width: 50%;}#sk-container-id-7 div.sk-parallel-item:only-child::after {width: 0;}#sk-container-id-7 div.sk-dashed-wrapped {border: 1px dashed gray;margin: 0 0.4em 0.5em 0.4em;box-sizing: border-box;padding-bottom: 0.4em;background-color: white;}#sk-container-id-7 div.sk-label label {font-family: monospace;font-weight: bold;display: inline-block;line-height: 1.2em;}#sk-container-id-7 div.sk-label-container {text-align: center;}#sk-container-id-7 div.sk-container {/* jupyter's `normalize.less` sets `[hidden] { display: none; }` but bootstrap.min.css set `[hidden] { display: none !important; }` so we also need the `!important` here to be able to override the default hidden behavior on the sphinx rendered scikit-learn.org. See: https://github.com/scikit-learn/scikit-learn/issues/21755 */display: inline-block !important;position: relative;}#sk-container-id-7 div.sk-text-repr-fallback {display: none;}</style><div id=\"sk-container-id-7\" class=\"sk-top-container\"><div class=\"sk-text-repr-fallback\"><pre>KNeighborsClassifier(metric=&#x27;cosine&#x27;, n_neighbors=15)</pre><b>In a Jupyter environment, please rerun this cell to show the HTML representation or trust the notebook. <br />On GitHub, the HTML representation is unable to render, please try loading this page with nbviewer.org.</b></div><div class=\"sk-container\" hidden><div class=\"sk-item\"><div class=\"sk-estimator sk-toggleable\"><input class=\"sk-toggleable__control sk-hidden--visually\" id=\"sk-estimator-id-7\" type=\"checkbox\" checked><label for=\"sk-estimator-id-7\" class=\"sk-toggleable__label sk-toggleable__label-arrow\">KNeighborsClassifier</label><div class=\"sk-toggleable__content\"><pre>KNeighborsClassifier(metric=&#x27;cosine&#x27;, n_neighbors=15)</pre></div></div></div></div></div>"
      ],
      "text/plain": [
       "KNeighborsClassifier(metric='cosine', n_neighbors=15)"
      ]
     },
     "execution_count": 179,
     "metadata": {},
     "output_type": "execute_result"
    }
   ],
   "source": [
    "from sklearn.neighbors import KNeighborsClassifier\n",
    "knn = KNeighborsClassifier(n_neighbors=15,metric='cosine')\n",
    "knn.fit(df_articles_knn,df_articles_knn_target)"
   ]
  },
  {
   "cell_type": "code",
   "execution_count": 294,
   "metadata": {},
   "outputs": [],
   "source": [
    "def article_cluster(query):\n",
    "    similar = []\n",
    "    query = model.embed_sentence(query)\n",
    "    class_pred = knn.predict(query)\n",
    "    #data = df_articles[df_articles['label']==class_pred].drop(['label'],axis=1)\n",
    "    for i in range(0,len(df_articles)):\n",
    "        if df_articles['label'][i] == class_pred:\n",
    "            y = 1- distance.cosine(model.embed_sentence(preprocess_sentence(df['title'][i])),query)\n",
    "            similar.append(y)\n",
    "        else:\n",
    "            similar.append(0)\n",
    "    for i in range(len(similar)):\n",
    "        if similar[i] == 1:\n",
    "            similar[i] = 0\n",
    "    return np.argmax(similar)\n",
    "#df['title'][np.argmax(similar)]"
   ]
  },
  {
   "cell_type": "code",
   "execution_count": 295,
   "metadata": {},
   "outputs": [],
   "source": [
    "sentence  = 'liver functions are affected by the rise in cholesterol'"
   ]
  },
  {
   "cell_type": "code",
   "execution_count": 257,
   "metadata": {},
   "outputs": [
    {
     "data": {
      "text/plain": [
       "'The pathogenesis of chronic viral hepatitis in the nude mouse and its influence on liver regeneration after partial hepatectomy.'"
      ]
     },
     "execution_count": 257,
     "metadata": {},
     "output_type": "execute_result"
    }
   ],
   "source": [
    "article_cluster(sentence)"
   ]
  },
  {
   "cell_type": "code",
   "execution_count": 288,
   "metadata": {},
   "outputs": [],
   "source": [
    "sentence = 'the world will end'\n",
    "sentence_vector = model.embed_sentence(sentence)"
   ]
  },
  {
   "cell_type": "code",
   "execution_count": 289,
   "metadata": {},
   "outputs": [
    {
     "data": {
      "text/plain": [
       "'One world – one health'"
      ]
     },
     "execution_count": 289,
     "metadata": {},
     "output_type": "execute_result"
    }
   ],
   "source": [
    "article_cluster(sentence)"
   ]
  },
  {
   "cell_type": "markdown",
   "metadata": {},
   "source": [
    "prediction_class = knn.predict(sentence_vector)# it belongs to label 1 \n",
    "prediction_class\n",
    "w =[]\n",
    "for i in range(0,len(df_articles)):\n",
    "    if df_articles['label'][i] == 1:\n",
    "        x = 1- distance.cosine(model.embed_sentence(preprocess_sentence(df['title'][i])),sentence_vector)\n",
    "        w.append(x)\n",
    "    else:\n",
    "        w.append(0)\n",
    "for i in range(len(w)):\n",
    "    if w[i] == 1:\n",
    "        w[i] = 0\n",
    "np.argmax(w)\n",
    "df['title'][23880]"
   ]
  },
  {
   "cell_type": "markdown",
   "metadata": {},
   "source": [
    "## "
   ]
  },
  {
   "cell_type": "markdown",
   "metadata": {},
   "source": [
    "Once we find the articles we will then look at the body of the article and find the closest sentence"
   ]
  },
  {
   "cell_type": "code",
   "execution_count": 333,
   "metadata": {},
   "outputs": [],
   "source": [
    "sentence = 'The SARS cov-2 can cause death'"
   ]
  },
  {
   "cell_type": "code",
   "execution_count": 328,
   "metadata": {},
   "outputs": [
    {
     "data": {
      "text/plain": [
       "7337"
      ]
     },
     "execution_count": 328,
     "metadata": {},
     "output_type": "execute_result"
    }
   ],
   "source": [
    "article_cluster(sentence)"
   ]
  },
  {
   "cell_type": "code",
   "execution_count": 386,
   "metadata": {},
   "outputs": [],
   "source": [
    "def doc_cluster(i):\n",
    "    index = article_cluster(i)\n",
    "    if df['body'][index] == '':\n",
    "        return df['title'][index]\n",
    "    else:\n",
    "        body = df['body'][index].split('.')\n",
    "        closest = []\n",
    "        for items in body:\n",
    "            d = 1-distance.cosine(model.embed_sentence(items),model.embed_sentence(i))\n",
    "            closest.append(d)\n",
    "        for i in range(len(closest)):\n",
    "            if closest[i] == 1:\n",
    "                closest[i] = 0\n",
    "    return body[np.argmax(closest)] + body[np.argmax(closest)+1]"
   ]
  },
  {
   "cell_type": "code",
   "execution_count": 359,
   "metadata": {},
   "outputs": [
    {
     "data": {
      "text/plain": [
       "' This finding suggested that, although PHEV infection in humans has not been reported currently, there is a definite potential threat to human health'"
      ]
     },
     "execution_count": 359,
     "metadata": {},
     "output_type": "execute_result"
    }
   ],
   "source": [
    "doc_cluster('The SARS cov-2 can cause death')"
   ]
  },
  {
   "cell_type": "code",
   "execution_count": 362,
   "metadata": {},
   "outputs": [
    {
     "data": {
      "text/plain": [
       "' The rate of handwashing with soap after restroom use in the current study (295%) was similar to those of Thailand (25%) and Ethiopia (22%), the least rate of handwashing with soap was Tanzania (5%)'"
      ]
     },
     "execution_count": 362,
     "metadata": {},
     "output_type": "execute_result"
    }
   ],
   "source": [
    "doc_cluster('is washing hands with soap enough to prevent a disease')"
   ]
  },
  {
   "cell_type": "code",
   "execution_count": 363,
   "metadata": {},
   "outputs": [
    {
     "data": {
      "text/plain": [
       "\" The cat's clinical course of fever was more consistent with a phenobarbital-induced fever similar to drug-induced fever reported in humans Drug-induced fever is a diagnosis of exclusion and an appropriate and thorough work-up for a fever of unknown origin is indicated in order to make the diagnosis\""
      ]
     },
     "execution_count": 363,
     "metadata": {},
     "output_type": "execute_result"
    }
   ],
   "source": [
    "doc_cluster('what should we do when we have fever')"
   ]
  },
  {
   "cell_type": "code",
   "execution_count": 364,
   "metadata": {},
   "outputs": [
    {
     "data": {
      "text/plain": [
       "' Parents may sometimes not even be aware that they are administering paracetamol [49, 77]  Moreover, there is convincing evidence that paracetamol use by infants, or even by expecting women, may increase the risk of asthma, rhinoconjunctivitis, and eczema in children [50] [51] [52] [78] [79] [80] , although a recent meta-analysis shows that childhood asthma may also be related to respiratory infections during infancy rather than to paracetamol administered to treat them [81] '"
      ]
     },
     "execution_count": 364,
     "metadata": {},
     "output_type": "execute_result"
    }
   ],
   "source": [
    "doc_cluster('is paracetamol really necessary')"
   ]
  },
  {
   "cell_type": "code",
   "execution_count": 377,
   "metadata": {},
   "outputs": [
    {
     "data": {
      "text/plain": [
       "' TNF-α is a key cytokine involved in both acute and chronic liver diseases, like fulminant hepatic failure, alcohol-induced hepatitis, viral hepatitis, metabolic toxicity, drug-induced liver injury and autoimmune hepatitis This death factor is recognized by the receptors TNFR1 and TNFR2, but most of its biological activity depends on TNFR1 21 '"
      ]
     },
     "execution_count": 377,
     "metadata": {},
     "output_type": "execute_result"
    }
   ],
   "source": [
    "doc_cluster('How to check liver')"
   ]
  },
  {
   "cell_type": "code",
   "execution_count": 387,
   "metadata": {},
   "outputs": [
    {
     "data": {
      "text/plain": [
       "'A shifty stop for a hairy tail'"
      ]
     },
     "execution_count": 387,
     "metadata": {},
     "output_type": "execute_result"
    }
   ],
   "source": [
    "doc_cluster('why does hair grey so fast')"
   ]
  },
  {
   "cell_type": "code",
   "execution_count": 388,
   "metadata": {},
   "outputs": [
    {
     "data": {
      "text/plain": [
       "'Corticosteroids for pain relief in sore throat: systematic review and meta-analysis'"
      ]
     },
     "execution_count": 388,
     "metadata": {},
     "output_type": "execute_result"
    }
   ],
   "source": [
    "doc_cluster('how can we reduce pain for stomach ache')"
   ]
  },
  {
   "cell_type": "code",
   "execution_count": 389,
   "metadata": {},
   "outputs": [
    {
     "data": {
      "text/plain": [
       "'Scientists for a better world'"
      ]
     },
     "execution_count": 389,
     "metadata": {},
     "output_type": "execute_result"
    }
   ],
   "source": [
    "doc_cluster('will the world end')"
   ]
  },
  {
   "cell_type": "code",
   "execution_count": 390,
   "metadata": {},
   "outputs": [
    {
     "data": {
      "text/plain": [
       "'Preventing a covid-19 pandemic'"
      ]
     },
     "execution_count": 390,
     "metadata": {},
     "output_type": "execute_result"
    }
   ],
   "source": [
    "doc_cluster('can we get another pandemic')"
   ]
  },
  {
   "cell_type": "code",
   "execution_count": 391,
   "metadata": {},
   "outputs": [
    {
     "data": {
      "text/plain": [
       "'Materialism and dialectics of epidemic prevention and control: only by respecting science can we get twice the result with half the effort'"
      ]
     },
     "execution_count": 391,
     "metadata": {},
     "output_type": "execute_result"
    }
   ],
   "source": [
    "doc_cluster('what can we do to prevent alzheimer')"
   ]
  },
  {
   "cell_type": "code",
   "execution_count": 1,
   "metadata": {},
   "outputs": [
    {
     "ename": "NameError",
     "evalue": "name 'doc_cluster' is not defined",
     "output_type": "error",
     "traceback": [
      "\u001b[0;31m---------------------------------------------------------------------------\u001b[0m",
      "\u001b[0;31mNameError\u001b[0m                                 Traceback (most recent call last)",
      "Input \u001b[0;32mIn [1]\u001b[0m, in \u001b[0;36m<cell line: 1>\u001b[0;34m()\u001b[0m\n\u001b[0;32m----> 1\u001b[0m \u001b[43mdoc_cluster\u001b[49m(\u001b[38;5;124m'\u001b[39m\u001b[38;5;124mHow does a virus mutate\u001b[39m\u001b[38;5;124m'\u001b[39m)\n",
      "\u001b[0;31mNameError\u001b[0m: name 'doc_cluster' is not defined"
     ]
    }
   ],
   "source": [
    "doc_cluster('How does a virus mutate')"
   ]
  },
  {
   "cell_type": "code",
   "execution_count": null,
   "metadata": {},
   "outputs": [],
   "source": []
  }
 ],
 "metadata": {
  "kernelspec": {
   "display_name": "Python 3 (ipykernel)",
   "language": "python",
   "name": "python3"
  },
  "language_info": {
   "codemirror_mode": {
    "name": "ipython",
    "version": 3
   },
   "file_extension": ".py",
   "mimetype": "text/x-python",
   "name": "python",
   "nbconvert_exporter": "python",
   "pygments_lexer": "ipython3",
   "version": "3.9.13"
  },
  "vscode": {
   "interpreter": {
    "hash": "8bce32cf944d4feb3a22d4f60d9fa78bd442b8495f83c71c09932da75801ae75"
   }
  }
 },
 "nbformat": 4,
 "nbformat_minor": 4
}
